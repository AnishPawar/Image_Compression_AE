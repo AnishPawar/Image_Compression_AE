{
 "cells": [
  {
   "cell_type": "code",
   "execution_count": 1,
   "metadata": {},
   "outputs": [],
   "source": [
    "import torch\n",
    "import torchvision\n",
    "import torchvision.transforms as transforms\n",
    "import torch.nn.functional as F\n",
    "from torch.utils.data import DataLoader\n",
    "import torch.nn as nn"
   ]
  },
  {
   "cell_type": "code",
   "execution_count": 2,
   "metadata": {},
   "outputs": [],
   "source": [
    "datasetNames = [\"CIFAR10\", \"MNIST\", \"FashionMNIST\",\"Moon_Craters\"] "
   ]
  },
  {
   "cell_type": "code",
   "execution_count": 3,
   "metadata": {},
   "outputs": [],
   "source": [
    "code = 2\n",
    "BATCH_SIZE=4"
   ]
  },
  {
   "cell_type": "code",
   "execution_count": 4,
   "metadata": {},
   "outputs": [],
   "source": [
    "\n",
    "if code ==1:\n",
    "    NUM_CHANNELS = 3\n",
    "\n",
    "    transform = transforms.Compose(\n",
    "    \n",
    "    [\n",
    "     transforms.ToTensor(),\n",
    "     transforms.Normalize((0.5, 0.5, 0.5), (0.5, 0.5, 0.5)),\n",
    "     ])\n",
    "    \n",
    "\n",
    "\n",
    "    trainset = torchvision.datasets.CIFAR10(root='./data', train=True,\n",
    "                                            download=True, transform=transform)\n",
    "    trainloader = torch.utils.data.DataLoader(trainset, batch_size=BATCH_SIZE,\n",
    "                                            shuffle=True, num_workers=2)\n",
    "\n",
    "    testset = torchvision.datasets.CIFAR10(root='./data', train=False,\n",
    "                                        download=True, transform=transform)\n",
    "    testloader = torch.utils.data.DataLoader(testset, batch_size=BATCH_SIZE,\n",
    "                                            shuffle=False, num_workers=2)\n",
    "\n",
    "\n",
    "\n",
    "if code ==2:\n",
    "\n",
    "    NUM_CHANNELS = 1\n",
    "\n",
    "\n",
    "    transform = transforms.Compose([\n",
    "    transforms.ToTensor(),\n",
    "    transforms.Resize((32,32)),\n",
    "        ])\n",
    "\n",
    "    trainset = torchvision.datasets.MNIST(root='./data', train=True, transform=transform, download=True)\n",
    "    trainloader = DataLoader(trainset, batch_size=BATCH_SIZE, shuffle=True)\n",
    "\n",
    "\n",
    "    testset = torchvision.datasets.MNIST(root='./data', train=False, transform=transform, download=True)\n",
    "    testloader = DataLoader(testset, batch_size=BATCH_SIZE, shuffle=True)\n",
    "\n",
    "if code ==3:\n",
    "\n",
    "    NUM_CHANNELS = 1\n",
    "\n",
    "\n",
    "    transform = transforms.Compose([\n",
    "    transforms.ToTensor(),\n",
    "    transforms.Resize((32,32)),\n",
    "        ])\n",
    "\n",
    "    trainset = torchvision.datasets.FashionMNIST(root='./data', train=True, transform=transform, download=True)\n",
    "    trainloader = DataLoader(trainset, batch_size=BATCH_SIZE, shuffle=True)\n",
    "\n",
    "\n",
    "    testset = torchvision.datasets.FashionMNIST(root='./data', train=False, transform=transform, download=True)\n",
    "    testloader = DataLoader(testset, batch_size=BATCH_SIZE, shuffle=True)\n"
   ]
  },
  {
   "cell_type": "code",
   "execution_count": 5,
   "metadata": {},
   "outputs": [
    {
     "name": "stdout",
     "output_type": "stream",
     "text": [
      "(3, 36, 138)\n"
     ]
    },
    {
     "data": {
      "image/png": "[encoded data removed]",
      "text/plain": [
       "<Figure size 640x480 with 1 Axes>"
      ]
     },
     "metadata": {},
     "output_type": "display_data"
    }
   ],
   "source": [
    "import matplotlib.pyplot as plt\n",
    "import numpy as np\n",
    "\n",
    "# functions to show an imageindices\n",
    "\n",
    "def imshow(img):\n",
    "    if code==1:\n",
    "        img = img / 2 + 0.5     # unnormalize\n",
    "    npimg = img.numpy()\n",
    "    print(npimg.shape)\n",
    "    plt.imshow(np.transpose(npimg, (1, 2, 0)))\n",
    "    plt.show()\n",
    "\n",
    "\n",
    "# get some random training images\n",
    "dataiter = iter(trainloader)\n",
    "images, labels = next(dataiter)\n",
    "\n",
    "# show images\n",
    "imshow(torchvision.utils.make_grid(images))\n",
    "# print labels\n",
    "# print(' '.join(f'{classes[labels[j]]:5s}' for j in range(batch_size)))"
   ]
  },
  {
   "cell_type": "code",
   "execution_count": 6,
   "metadata": {},
   "outputs": [],
   "source": [
    "class GlobalAvgPool2d(nn.Module):\n",
    "    def __init__(self):\n",
    "        super(GlobalAvgPool2d, self).__init__()\n",
    "\n",
    "    def forward(self, x):\n",
    "        return nn.functional.adaptive_avg_pool2d(x, (1, 1)).view(x.size(0), -1)"
   ]
  },
  {
   "cell_type": "code",
   "execution_count": 7,
   "metadata": {},
   "outputs": [],
   "source": [
    "class MyUnpool2d(nn.Module):\n",
    "    def __init__(self, scale_factor):\n",
    "        super(MyUnpool2d, self).__init__()\n",
    "        self.scale_factor = scale_factor\n",
    "\n",
    "    def forward(self, x):\n",
    "        return nn.functional.interpolate(x, scale_factor=self.scale_factor, mode='nearest')"
   ]
  },
  {
   "cell_type": "code",
   "execution_count": 8,
   "metadata": {},
   "outputs": [],
   "source": [
    "class Autoencoder(nn.Module):\n",
    "    def __init__(self):\n",
    "        super(Autoencoder, self).__init__()\n",
    "\n",
    "        self.conv1 = nn.Conv2d(NUM_CHANNELS, 64, 5)\n",
    "        self.pool = nn.MaxPool2d(2, stride=2, return_indices=True)                                    \n",
    "        self.conv2 = nn.Conv2d(64, 128, 5)\n",
    "\n",
    "        \n",
    "        self.fcEnc = nn.Sequential(\n",
    "                                    nn.Linear(128 * 10 * 10, 120),\n",
    "                                    nn.ReLU(True),\n",
    "                                    nn.Linear(120, 84),\n",
    "                                    nn.ReLU(True),\n",
    "                                    nn.Linear(84, 40))\n",
    "        \n",
    "\n",
    "        self.unpool = nn.MaxUnpool2d(2, stride=2, padding=0)\n",
    "\n",
    "        \n",
    "\n",
    "        self.fcDec = nn.Sequential(\n",
    "                                    nn.Linear(40, 84),\n",
    "                                    nn.ReLU(True),\n",
    "                                    nn.Linear(84, 120),\n",
    "                                    nn.ReLU(True),\n",
    "                                    nn.Linear(120, 128 * 10 * 10),\n",
    "                                    nn.ReLU(True),\n",
    "                                    nn.Unflatten(1, (128, 10, 10))\n",
    "\n",
    "        )\n",
    "\n",
    "        self.convt1 = nn.ConvTranspose2d(128, 64, 5)\n",
    "        self.unpool = nn.MaxUnpool2d(2, 2)\n",
    "                        \n",
    "        \n",
    "                                    \n",
    "        self.convt2 =  nn.ConvTranspose2d(64, NUM_CHANNELS, 5)\n",
    "\n",
    "\n",
    "\n",
    "\n",
    "    def forward(self, x):\n",
    "        x = self.conv1(x)\n",
    "        x,indices = self.pool(x)\n",
    "        x = self.conv2(x)\n",
    "        x = torch.flatten(x, 1)\n",
    "        x = self.fcEnc(x)\n",
    "        x = self.fcDec(x)\n",
    "        # print(x.shape)\n",
    "\n",
    "        x = F.relu(self.convt1(x))\n",
    "        x = self.unpool(x,indices)\n",
    "        x = F.sigmoid( self.convt2(x))\n",
    "        \n",
    "        # print(x.shape)\n",
    "        return x\n",
    "\n",
    "\n",
    "    def compress(self,x):\n",
    "        x = self.conv1(x)\n",
    "        x,indices = self.pool(x)\n",
    "        x = self.conv2(x)\n",
    "        x = torch.flatten(x, 1)\n",
    "        x = self.fcEnc(x)\n",
    "        return x , indices\n",
    "    \n",
    "    def decompress(self,compressed,indices):\n",
    "        x = self.fcDec(compressed)\n",
    "\n",
    "        x = F.relu(self.convt1(x))\n",
    "        x = self.unpool(x,indices)\n",
    "        x = F.sigmoid( self.convt2(x))\n",
    "        \n",
    "        # print(x.shape)\n",
    "        return x\n",
    "\n",
    "net = Autoencoder()\n"
   ]
  },
  {
   "cell_type": "code",
   "execution_count": 9,
   "metadata": {},
   "outputs": [],
   "source": [
    "# import torch.optim as optim\n",
    "\n",
    "# criterion = nn.MSELoss()\n",
    "# optimizer = optim.Adam(net.parameters(), lr=0.001)"
   ]
  },
  {
   "cell_type": "code",
   "execution_count": 10,
   "metadata": {},
   "outputs": [],
   "source": [
    "device = torch.device('cuda:0' if torch.cuda.is_available() else 'cpu')"
   ]
  },
  {
   "cell_type": "code",
   "execution_count": 11,
   "metadata": {},
   "outputs": [
    {
     "data": {
      "text/plain": [
       "Autoencoder(\n",
       "  (conv1): Conv2d(1, 64, kernel_size=(5, 5), stride=(1, 1))\n",
       "  (pool): MaxPool2d(kernel_size=2, stride=2, padding=0, dilation=1, ceil_mode=False)\n",
       "  (conv2): Conv2d(64, 128, kernel_size=(5, 5), stride=(1, 1))\n",
       "  (fcEnc): Sequential(\n",
       "    (0): Linear(in_features=12800, out_features=120, bias=True)\n",
       "    (1): ReLU(inplace=True)\n",
       "    (2): Linear(in_features=120, out_features=84, bias=True)\n",
       "    (3): ReLU(inplace=True)\n",
       "    (4): Linear(in_features=84, out_features=40, bias=True)\n",
       "  )\n",
       "  (unpool): MaxUnpool2d(kernel_size=(2, 2), stride=(2, 2), padding=(0, 0))\n",
       "  (fcDec): Sequential(\n",
       "    (0): Linear(in_features=40, out_features=84, bias=True)\n",
       "    (1): ReLU(inplace=True)\n",
       "    (2): Linear(in_features=84, out_features=120, bias=True)\n",
       "    (3): ReLU(inplace=True)\n",
       "    (4): Linear(in_features=120, out_features=12800, bias=True)\n",
       "    (5): ReLU(inplace=True)\n",
       "    (6): Unflatten(dim=1, unflattened_size=(128, 10, 10))\n",
       "  )\n",
       "  (convt1): ConvTranspose2d(128, 64, kernel_size=(5, 5), stride=(1, 1))\n",
       "  (convt2): ConvTranspose2d(64, 1, kernel_size=(5, 5), stride=(1, 1))\n",
       ")"
      ]
     },
     "execution_count": 11,
     "metadata": {},
     "output_type": "execute_result"
    }
   ],
   "source": [
    "net.to(device)"
   ]
  },
  {
   "cell_type": "code",
   "execution_count": 12,
   "metadata": {},
   "outputs": [],
   "source": [
    "input_data = torch.randn(1, NUM_CHANNELS, 32, 32).to(device)  # Example input tensor of shape (batch_size, channels, height, width)\n",
    "output_data = net(input_data)  # Forward pass through the autoencoder\n",
    "# loss = F.mse_loss(output_data, input_data)  # Compute MSE loss between output and input\n",
    "# print(loss)"
   ]
  },
  {
   "cell_type": "code",
   "execution_count": 13,
   "metadata": {},
   "outputs": [
    {
     "data": {
      "text/plain": [
       "torch.Size([1, 1, 32, 32])"
      ]
     },
     "execution_count": 13,
     "metadata": {},
     "output_type": "execute_result"
    }
   ],
   "source": [
    "output_data.shape"
   ]
  },
  {
   "cell_type": "code",
   "execution_count": 14,
   "metadata": {},
   "outputs": [],
   "source": [
    "from tqdm import tqdm"
   ]
  },
  {
   "cell_type": "code",
   "execution_count": null,
   "metadata": {},
   "outputs": [],
   "source": [
    "import torch.optim as optim\n",
    "import torch.nn as nn\n",
    "from tqdm import tqdm\n",
    "\n",
    "\n",
    "\n",
    "criterion = nn.MSELoss()\n",
    "optimizer = optim.Adam(net.parameters(), lr=1e-4)\n",
    "\n",
    "\n",
    "# scheduler = optim.lr_scheduler.StepLR(optimizer, step_size=2, gamma=0.1)  \n",
    "\n",
    "for epoch in range(6):  \n",
    "\n",
    "    running_loss = 0.0\n",
    "    for i, data in tqdm(enumerate(trainloader, 0)):\n",
    "        \n",
    "        inputs, labels = data\n",
    "\n",
    "        optimizer.zero_grad()\n",
    "        \n",
    "        outputs = net(inputs.to(device))\n",
    "        loss = criterion(outputs, inputs.to(device))\n",
    "        loss.backward()\n",
    "        optimizer.step()\n",
    "\n",
    "        \n",
    "        running_loss += loss.item()\n",
    "        if i % 2000 == 1999:   \n",
    "            print(f'[{epoch + 1}, {i + 1:5d}] loss: {running_loss / 2000:.3f}')\n",
    "            running_loss = 0.0\n",
    "    \n",
    "    \n",
    "    # scheduler.step()\n",
    "\n",
    "print('Finished Training')\n"
   ]
  },
  {
   "cell_type": "code",
   "execution_count": 16,
   "metadata": {},
   "outputs": [
    {
     "name": "stdout",
     "output_type": "stream",
     "text": [
      "(3, 36, 138)\n"
     ]
    },
    {
     "data": {
      "image/png": "[encoded data removed]",
      "text/plain": [
       "<Figure size 640x480 with 1 Axes>"
      ]
     },
     "metadata": {},
     "output_type": "display_data"
    }
   ],
   "source": [
    "dataiter = iter(testloader)\n",
    "images, labels = next(dataiter)\n",
    "\n",
    "imshow(torchvision.utils.make_grid(images))"
   ]
  },
  {
   "cell_type": "code",
   "execution_count": 17,
   "metadata": {},
   "outputs": [],
   "source": [
    "dataiter = iter(testloader)\n",
    "images, labels = next(dataiter)\n",
    "\n",
    "outputs = net(images.to(device))"
   ]
  },
  {
   "cell_type": "code",
   "execution_count": 18,
   "metadata": {},
   "outputs": [
    {
     "data": {
      "text/plain": [
       "torch.Size([4, 1, 32, 32])"
      ]
     },
     "execution_count": 18,
     "metadata": {},
     "output_type": "execute_result"
    }
   ],
   "source": [
    "outputs.shape"
   ]
  },
  {
   "cell_type": "code",
   "execution_count": 19,
   "metadata": {},
   "outputs": [
    {
     "data": {
      "text/plain": [
       "<matplotlib.image.AxesImage at 0x75aa973d0dc0>"
      ]
     },
     "execution_count": 19,
     "metadata": {},
     "output_type": "execute_result"
    },
    {
     "data": {
      "image/png": "[encoded data removed]",
      "text/plain": [
       "<Figure size 640x480 with 1 Axes>"
      ]
     },
     "metadata": {},
     "output_type": "display_data"
    }
   ],
   "source": [
    "plt.imshow(outputs[3].detach().cpu().permute(1,2,0))"
   ]
  },
  {
   "cell_type": "code",
   "execution_count": 20,
   "metadata": {},
   "outputs": [
    {
     "data": {
      "text/plain": [
       "<matplotlib.image.AxesImage at 0x75aa97b3fac0>"
      ]
     },
     "execution_count": 20,
     "metadata": {},
     "output_type": "execute_result"
    },
    {
     "data": {
      "image/png": "[encoded data removed]",
      "text/plain": [
       "<Figure size 640x480 with 1 Axes>"
      ]
     },
     "metadata": {},
     "output_type": "display_data"
    }
   ],
   "source": [
    "plt.imshow(images[3].detach().cpu().permute(1,2,0))"
   ]
  },
  {
   "cell_type": "markdown",
   "metadata": {},
   "source": [
    "## Saving the Model"
   ]
  },
  {
   "cell_type": "code",
   "execution_count": null,
   "metadata": {},
   "outputs": [],
   "source": [
    "from datetime import datetime\n",
    "now = datetime.now()"
   ]
  },
  {
   "cell_type": "code",
   "execution_count": null,
   "metadata": {},
   "outputs": [],
   "source": [
    "f'{now}'"
   ]
  },
  {
   "cell_type": "code",
   "execution_count": null,
   "metadata": {},
   "outputs": [],
   "source": [
    "root = 'models'"
   ]
  },
  {
   "cell_type": "code",
   "execution_count": null,
   "metadata": {},
   "outputs": [],
   "source": [
    "f'{loss.item():.4f}'"
   ]
  },
  {
   "cell_type": "code",
   "execution_count": null,
   "metadata": {},
   "outputs": [],
   "source": [
    "f'{root}/{datasetNames[code-1]}-{now}-{loss.item():.4f}.pth'"
   ]
  },
  {
   "cell_type": "code",
   "execution_count": null,
   "metadata": {},
   "outputs": [],
   "source": [
    "torch.save(net.state_dict(), f'{root}/{datasetNames[code-1]}-{now}-{loss.item():.4f}.pth')"
   ]
  },
  {
   "cell_type": "markdown",
   "metadata": {},
   "source": [
    "## Loading the saved model"
   ]
  },
  {
   "cell_type": "code",
   "execution_count": null,
   "metadata": {},
   "outputs": [],
   "source": [
    "    # print(outputs.shape)\n",
    "\n",
    "    # tSSIM+=BSSIM\n",
    "import os\n",
    "\n",
    "print(f\"Options Are: {os.listdir('models')}\")"
   ]
  },
  {
   "cell_type": "code",
   "execution_count": 15,
   "metadata": {},
   "outputs": [
    {
     "data": {
      "text/plain": [
       "<All keys matched successfully>"
      ]
     },
     "execution_count": 15,
     "metadata": {},
     "output_type": "execute_result"
    }
   ],
   "source": [
    "net.load_state_dict(torch.load(f'models/MNIST-2024-04-13 23:34:19.095483-0.0007.pth'))"
   ]
  },
  {
   "cell_type": "markdown",
   "metadata": {},
   "source": [
    "## Benchmarking on Test Dataset"
   ]
  },
  {
   "cell_type": "code",
   "execution_count": 21,
   "metadata": {},
   "outputs": [
    {
     "name": "stderr",
     "output_type": "stream",
     "text": [
      "2500it [00:01, 1702.62it/s]"
     ]
    },
    {
     "name": "stdout",
     "output_type": "stream",
     "text": [
      "Test Loss: 0.0009533369448035955\n"
     ]
    },
    {
     "name": "stderr",
     "output_type": "stream",
     "text": [
      "\n"
     ]
    }
   ],
   "source": [
    "import torch.optim as optim\n",
    "import torch.nn as nn\n",
    "from tqdm import tqdm\n",
    "\n",
    "criterion = nn.MSELoss()\n",
    "\n",
    "running_loss = 0.0\n",
    "for i, data in tqdm(enumerate(testloader, 0)):\n",
    "    inputs, labels = data\n",
    "\n",
    "    outputs = net(inputs.to(device))\n",
    "    loss = criterion(outputs, inputs.to(device))\n",
    "\n",
    "\n",
    "print(f'Test Loss: {loss.item()}')"
   ]
  },
  {
   "cell_type": "markdown",
   "metadata": {},
   "source": [
    "## SSIM"
   ]
  },
  {
   "cell_type": "code",
   "execution_count": 22,
   "metadata": {},
   "outputs": [
    {
     "name": "stderr",
     "output_type": "stream",
     "text": [
      "15000it [00:15, 968.17it/s]"
     ]
    },
    {
     "name": "stdout",
     "output_type": "stream",
     "text": [
      "Train Loss: 0.0006819096161052585\n",
      "Mean MSSIM for Train data is: 0.9642008355064674\n"
     ]
    },
    {
     "name": "stderr",
     "output_type": "stream",
     "text": [
      "\n"
     ]
    }
   ],
   "source": [
    "import numpy as np\n",
    "from skimage.metrics import structural_similarity as compare_ssim\n",
    "\n",
    "\n",
    "criterion = nn.MSELoss()\n",
    "\n",
    "running_loss = 0.0\n",
    "\n",
    "tSSIM = 0\n",
    "\n",
    "for i, data in tqdm(enumerate(trainloader, 0)):\n",
    "    inputs, labels = data\n",
    "\n",
    "    outputs = net(inputs.to(device))\n",
    "\n",
    "    batchNumpyIP = inputs.permute((0,2,3,1)).detach().cpu().numpy()\n",
    "    batchNumpyOP = outputs.permute((0,2,3,1)).detach().cpu().numpy()\n",
    "\n",
    "    for i in range(BATCH_SIZE):\n",
    "        ssim_index, _ = compare_ssim(batchNumpyIP[i,:,:,0], batchNumpyOP[i,:,:,0], full=True,win_size=5,data_range=1)\n",
    "        tSSIM+=ssim_index\n",
    "\n",
    "    loss = criterion(outputs, inputs.to(device))\n",
    "\n",
    "print(f'Train Loss: {loss.item()}')\n",
    "print(f'Mean MSSIM for Train data is: {tSSIM/(4*len(trainloader))}')\n"
   ]
  },
  {
   "cell_type": "code",
   "execution_count": 23,
   "metadata": {},
   "outputs": [
    {
     "ename": "SyntaxError",
     "evalue": "invalid syntax (3617155048.py, line 1)",
     "output_type": "error",
     "traceback": [
      "\u001b[0;36m  Cell \u001b[0;32mIn[23], line 1\u001b[0;36m\u001b[0m\n\u001b[0;31m    len(testloader)|\u001b[0m\n\u001b[0m                    ^\u001b[0m\n\u001b[0;31mSyntaxError\u001b[0m\u001b[0;31m:\u001b[0m invalid syntax\n"
     ]
    }
   ],
   "source": [
    "len(testloader)|"
   ]
  },
  {
   "cell_type": "code",
   "execution_count": 24,
   "metadata": {},
   "outputs": [
    {
     "data": {
      "text/plain": [
       "57852.050130388045"
      ]
     },
     "execution_count": 24,
     "metadata": {},
     "output_type": "execute_result"
    }
   ],
   "source": [
    "tSSIM"
   ]
  },
  {
   "cell_type": "code",
   "execution_count": 25,
   "metadata": {},
   "outputs": [
    {
     "name": "stderr",
     "output_type": "stream",
     "text": [
      "15000it [00:11, 1261.83it/s]\n"
     ]
    }
   ],
   "source": [
    "import torch.optim as optim\n",
    "import torch.nn as nn\n",
    "from tqdm import tqdm\n",
    "\n",
    "resFull = torch.tensor([])\n",
    "\n",
    "\n",
    "running_loss = 0.0\n",
    "for i, data in tqdm(enumerate(trainloader, 0)):\n",
    "    inputs, labels = data\n",
    "\n",
    "    outputs = net.compress(inputs.to(device))\n",
    "    resFull = torch.cat([resFull, outputs[0].detach().cpu()], dim=0)\n"
   ]
  },
  {
   "cell_type": "code",
   "execution_count": 26,
   "metadata": {},
   "outputs": [
    {
     "data": {
      "text/plain": [
       "torch.Size([60000, 40])"
      ]
     },
     "execution_count": 26,
     "metadata": {},
     "output_type": "execute_result"
    }
   ],
   "source": [
    "resFull.shape"
   ]
  },
  {
   "cell_type": "code",
   "execution_count": 27,
   "metadata": {},
   "outputs": [],
   "source": [
    "toSave = resFull.numpy()"
   ]
  },
  {
   "cell_type": "code",
   "execution_count": 28,
   "metadata": {},
   "outputs": [],
   "source": [
    "np.save(f'{datasetNames[code-1]}-compressed.npy',toSave)"
   ]
  },
  {
   "cell_type": "markdown",
   "metadata": {},
   "source": [
    "Saving Inputs / Untouched"
   ]
  },
  {
   "cell_type": "code",
   "execution_count": 29,
   "metadata": {},
   "outputs": [
    {
     "name": "stderr",
     "output_type": "stream",
     "text": [
      "15000it [02:44, 91.22it/s] \n"
     ]
    }
   ],
   "source": [
    "import torch.optim as optim\n",
    "import torch.nn as nn\n",
    "from tqdm import tqdm\n",
    "\n",
    "resFull = torch.tensor([])\n",
    "\n",
    "\n",
    "running_loss = 0.0\n",
    "for i, data in tqdm(enumerate(trainloader, 0)):\n",
    "    inputs, labels = data\n",
    "\n",
    "    # outputs = net.compress(inputs.to(device))\n",
    "    resFull = torch.cat([resFull, inputs], dim=0)\n"
   ]
  },
  {
   "cell_type": "code",
   "execution_count": 30,
   "metadata": {},
   "outputs": [
    {
     "data": {
      "text/plain": [
       "torch.Size([60000, 1, 32, 32])"
      ]
     },
     "execution_count": 30,
     "metadata": {},
     "output_type": "execute_result"
    }
   ],
   "source": [
    "resFull.shape"
   ]
  },
  {
   "cell_type": "code",
   "execution_count": 31,
   "metadata": {},
   "outputs": [],
   "source": [
    "toSave = resFull.numpy()"
   ]
  },
  {
   "cell_type": "code",
   "execution_count": 32,
   "metadata": {},
   "outputs": [],
   "source": [
    "np.save(f'{datasetNames[code-1]}-og.npy',toSave)"
   ]
  },
  {
   "cell_type": "code",
   "execution_count": null,
   "metadata": {},
   "outputs": [],
   "source": []
  }
 ],
 "metadata": {
  "kernelspec": {
   "display_name": "carla1",
   "language": "python",
   "name": "python3"
  },
  "language_info": {
   "codemirror_mode": {
    "name": "ipython",
    "version": 3
   },
   "file_extension": ".py",
   "mimetype": "text/x-python",
   "name": "python",
   "nbconvert_exporter": "python",
   "pygments_lexer": "ipython3",
   "version": "3.8.19"
  }
 },
 "nbformat": 4,
 "nbformat_minor": 2
}
