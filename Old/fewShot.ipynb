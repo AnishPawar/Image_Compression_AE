{
 "cells": [
  {
   "cell_type": "markdown",
   "metadata": {},
   "source": [
    "## FSL-1"
   ]
  },
  {
   "cell_type": "code",
   "execution_count": null,
   "metadata": {},
   "outputs": [],
   "source": []
  },
  {
   "cell_type": "code",
   "execution_count": 2,
   "metadata": {},
   "outputs": [],
   "source": [
    "import torch.nn as nn\n",
    "import torch\n",
    "import torch.optim as optim\n",
    "import torchvision.transforms as transforms\n",
    "from torch.utils.data import DataLoader, Dataset\n",
    "from torchvision.datasets import MNIST\n",
    "from torch.utils.data.sampler import Sampler\n",
    "import numpy as np\n",
    "import matplotlib.pyplot as plt\n",
    "import random\n",
    "classes_per_batch__(self):\n",
    "        super(GlobalAvgPool2d, self).__init__()\n",
    "\n",
    "    def forward(self, x):\n",
    "        return nn.functional.adaptive_avg_pool2d(x, (1, 1)).view(x.size(0), -1)\n"
   ]
  },
  {
   "cell_type": "code",
   "execution_count": 3,
   "metadata": {},
   "outputs": [],
   "source": [
    "device = torch.device(\"cuda\" if torch.cuda.is_available() else \"cpu\")"
   ]
  },
  {
   "cell_type": "code",
   "execution_count": 71,
   "metadata": {},
   "outputs": [],
   "source": [
    "if not torch.backends.mps.is_available():\n",
    "    if not torch.backends.mps.is_built():\n",
    "        print(\"MPS not available because the current PyTorch install was not \"\n",
    "              \"built with MPS enabled.\")\n",
    "    else:\n",
    "        print(\"MPS not available because the current MacOS version is not 12.3+ \"\n",
    "              \"and/or you do not have an MPS-enabled device on this machine.\")\n",
    "\n",
    "else:\n",
    "    mps_device = torch.device(\"mps\")"
   ]
  },
  {
   "cell_type": "code",
   "execution_count": 4,
   "metadata": {},
   "outputs": [],
   "source": [
    "mps_device = 'cuda'"
   ]
  },
  {
   "cell_type": "code",
   "execution_count": 5,
   "metadata": {},
   "outputs": [],
   "source": [
    "# Define Siamese Network\n",
    "class SiameseNetwork(nn.Module):\n",
    "    def __init__(self):\n",
    "        super(SiameseNetwork, self).__init__()\n",
    "        self.cnn = nn.Sequential(\n",
    "            nn.Conv2d(1, 64, kernel_size=10),\n",
    "            nn.ReLU(inplace=True),\n",
    "            nn.MaxPool2d(2),\n",
    "            nn.Conv2d(64, 128, kernel_size=7),\n",
    "            nn.ReLU(inplace=True),\n",
    "            # nn.\n",
    "            # nn.MaxPool2d(2),\n",
    "            # nn.Conv2d(128, 128, kernel_size=4),\n",
    "            # nn.ReLU(inplace=True),\n",
    "            # nn.MaxPool2d(2),\n",
    "            # nn.Conv2d(128, 256, kernel_size=4),\n",
    "            # nn.ReLU(inplace=True)\n",
    "        )\n",
    "        self.gap = GlobalAvgPool2d()\n",
    "\n",
    "        self.fc = nn.Sequential(\n",
    "            nn.Linear(128, 512),\n",
    "            nn.Sigmoid()\n",
    "        )\n",
    "        \n",
    "    def forward_one(self, x):\n",
    "        x = self.cnn(x)\n",
    "        x = self.gap(x)\n",
    "        # x = x.view(x.size()[0], -1)\n",
    "        x = self.fc(x.T)\n",
    "        return x\n",
    "    \n",
    "    def forward(self, input1, input2):\n",
    "        output1 = self.forward_one(input1)\n",
    "        output2 = self.forward_one(input2)\n",
    "        return output1, output2\n",
    "\n",
    "class ContrastiveLoss(nn.Module):\n",
    "    def __init__(self, margin=2.0):\n",
    "        super(ContrastiveLoss, self).__init__()\n",
    "        self.margin = margin\n",
    "        \n",
    "    def forward(self, output1, output2, label):\n",
    "        euclidean_distance = nn.functional.pairwise_distance(output1, output2, keepdim=True)\n",
    "        loss_contrastive = torch.mean((1-label) * torch.pow(euclidean_distance, 2) +\n",
    "                                      (label) * torch.pow(torch.clamp(self.margin - euclidean_distance, min=0.0), 2))\n",
    "        return loss_contrastive\n",
    "\n",
    "\n",
    "class SiameseSampler(Sampler):\n",
    "    def __init__(self, data_source, classes_per_batch=10, samples_per_class=4):\n",
    "        self.data_source = data_source\n",
    "        self.classes_per_batch = classes_per_batch\n",
    "        self.samples_per_class = samples_per_class\n",
    "        self.class_indices = {label.item(): [] for label in self.data_source.targets}\n",
    "        for idx, label in enumerate(self.data_source.targets):\n",
    "            self.class_indices[label.item()].append(idx)\n",
    "            \n",
    "    def __iter__(self):\n",
    "        batch_indices = []\n",
    "        for _ in range(self.classes_per_batch):\n",
    "            selected_classes = random.sample(range(10), self.samples_per_class) \n",
    "            for class_label in selected_classes:\n",
    "                selected_indices = random.sample(self.class_indices[class_label], self.samples_per_class)\n",
    "                batch_indices.append(selected_indices)\n",
    "        return iter(batch_indices)\n",
    "    \n",
    "    def __len__(self):\n",
    "        return self.classes_per_batch\n",
    "\n",
    "transform = transforms.Compose([\n",
    "    transforms.ToTensor()\n",
    "])\n",
    "\n",
    "train_dataset = MNIST(root='mnist_data', train=True, download=True, transform=transform)\n",
    "train_sampler = SiameseSampler(train_dataset)\n",
    "train_loader = DataLoader(train_dataset, batch_sampler=train_sampler)\n"
   ]
  },
  {
   "cell_type": "code",
   "execution_count": 6,
   "metadata": {},
   "outputs": [],
   "source": [
    "test_dataset = MNIST(root='mnist_data', train=False, download=True, transform=transform)\n",
    "test_sampler = SiameseSampler(test_dataset,classes_per_batch=10,samples_per_class=1)\n",
    "test_loader = DataLoader(test_dataset, batch_sampler=test_sampler)"
   ]
  },
  {
   "cell_type": "code",
   "execution_count": 7,
   "metadata": {},
   "outputs": [
    {
     "data": {
      "text/plain": [
       "SiameseNetwork(\n",
       "  (cnn): Sequential(\n",
       "    (0): Conv2d(1, 64, kernel_size=(10, 10), stride=(1, 1))\n",
       "    (1): ReLU(inplace=True)\n",
       "    (2): MaxPool2d(kernel_size=2, stride=2, padding=0, dilation=1, ceil_mode=False)\n",
       "    (3): Conv2d(64, 128, kernel_size=(7, 7), stride=(1, 1))\n",
       "    (4): ReLU(inplace=True)\n",
       "  )\n",
       "  (gap): GlobalAvgPool2d()\n",
       "  (fc): Sequential(\n",
       "    (0): Linear(in_features=128, out_features=512, bias=True)\n",
       "    (1): Sigmoid()\n",
       "  )\n",
       ")"
      ]
     },
     "execution_count": 7,
     "metadata": {},
     "output_type": "execute_result"
    }
   ],
   "source": [
    "\n",
    "# Initialize Model, Loss Function, and Optimizer\n",
    "model = SiameseNetwork()\n",
    "criterion = ContrastiveLoss()\n",
    "optimizer = optim.Adam(model.parameters(), lr=1e-3)\n",
    "\n",
    "model.to(mps_device)\n",
    "\n"
   ]
  },
  {
   "cell_type": "code",
   "execution_count": 8,
   "metadata": {},
   "outputs": [
    {
     "name": "stderr",
     "output_type": "stream",
     "text": [
      "/tmp/ipykernel_5395/2353844553.py:8: UserWarning: To copy construct from a tensor, it is recommended to use sourceTensor.clone().detach() or sourceTensor.clone().detach().requires_grad_(True), rather than torch.tensor(sourceTensor).\n",
      "  target = torch.tensor(target)\n"
     ]
    },
    {
     "name": "stdout",
     "output_type": "stream",
     "text": [
      "Epoch 1, Loss: -2980.4776084162295\n",
      "Epoch 2, Loss: -9092.775305509567\n",
      "Epoch 3, Loss: -10903.020587995296\n",
      "Epoch 4, Loss: -19636.169190883636\n",
      "Epoch 5, Loss: -16515.623197302222\n",
      "Epoch 6, Loss: -13876.820745587349\n",
      "Epoch 7, Loss: -34838.12713384628\n",
      "Epoch 8, Loss: -29720.978462465107\n",
      "Epoch 9, Loss: -21624.031155880075\n",
      "Epoch 10, Loss: -29054.038786061294\n",
      "Epoch 11, Loss: -19415.652008603985\n",
      "Epoch 12, Loss: -33584.33856609464\n",
      "Epoch 13, Loss: -30595.618522635305\n",
      "Epoch 14, Loss: -32401.137440502644\n",
      "Epoch 15, Loss: -33754.533679790155\n",
      "Epoch 16, Loss: -29298.45156550292\n",
      "Epoch 17, Loss: -25279.766416570666\n",
      "Epoch 18, Loss: -6400.65763693238\n",
      "Epoch 19, Loss: -21800.59276738916\n",
      "Epoch 20, Loss: -16107.132632560359\n",
      "Epoch 21, Loss: -27283.82874584198\n",
      "Epoch 22, Loss: -33893.62995306569\n",
      "Epoch 23, Loss: -28540.51843392849\n",
      "Epoch 24, Loss: -32373.72673267126\n",
      "Epoch 25, Loss: -19966.185228575407\n",
      "Epoch 26, Loss: -21393.35954298079\n",
      "Epoch 27, Loss: -21598.172987386584\n",
      "Epoch 28, Loss: -34440.04182934761\n",
      "Epoch 29, Loss: -24995.561266064644\n",
      "Epoch 30, Loss: -25479.895610474974\n",
      "Epoch 31, Loss: -17979.913402050734\n",
      "Epoch 32, Loss: -33000.20252466202\n",
      "Epoch 33, Loss: -35351.946802131686\n",
      "Epoch 34, Loss: -36542.812880710975\n",
      "Epoch 35, Loss: -36889.192491768765\n",
      "Epoch 36, Loss: -33438.37778500539\n",
      "Epoch 37, Loss: -29813.530158281326\n",
      "Epoch 38, Loss: -26175.168160498142\n",
      "Epoch 39, Loss: -25991.410686615855\n",
      "Epoch 40, Loss: -21227.21634479612\n"
     ]
    }
   ],
   "source": [
    "# Training Loop\n",
    "num_epochs = 40\n",
    "for epoch in range(num_epochs):\n",
    "    model.train()\n",
    "    total_loss = 0\n",
    "    for batch_idx, (data, target) in enumerate(train_loader):\n",
    "        img1, img2 = data[0], data[1]\n",
    "        target = torch.tensor(target)\n",
    "        optimizer.zero_grad()\n",
    "        output1, output2 = model(img1.to(mps_device), img2.to(mps_device))\n",
    "        loss = criterion(output1, output2, target.to(mps_device))\n",
    "        loss.backward()\n",
    "        optimizer.step()\n",
    "        total_loss += loss.item()\n",
    "    print(f\"Epoch {epoch+1}, Loss: {total_loss}\")\n",
    "\n",
    "torch.save(model.state_dict(), 'siamese_model_mnist.pth')\n"
   ]
  },
  {
   "cell_type": "code",
   "execution_count": 9,
   "metadata": {},
   "outputs": [
    {
     "data": {
      "text/plain": [
       "10"
      ]
     },
     "execution_count": 9,
     "metadata": {},
     "output_type": "execute_result"
    }
   ],
   "source": [
    "len(train_loader)"
   ]
  },
  {
   "cell_type": "code",
   "execution_count": 10,
   "metadata": {},
   "outputs": [
    {
     "name": "stdout",
     "output_type": "stream",
     "text": [
      "torch.Size([4, 1, 28, 28]) torch.Size([4])\n",
      "torch.Size([4, 1, 28, 28]) torch.Size([4])\n",
      "torch.Size([4, 1, 28, 28]) torch.Size([4])\n",
      "torch.Size([4, 1, 28, 28]) torch.Size([4])\n",
      "torch.Size([4, 1, 28, 28]) torch.Size([4])\n",
      "torch.Size([4, 1, 28, 28]) torch.Size([4])\n",
      "torch.Size([4, 1, 28, 28]) torch.Size([4])\n",
      "torch.Size([4, 1, 28, 28]) torch.Size([4])\n",
      "torch.Size([4, 1, 28, 28]) torch.Size([4])\n",
      "torch.Size([4, 1, 28, 28]) torch.Size([4])\n",
      "torch.Size([4, 1, 28, 28]) torch.Size([4])\n",
      "torch.Size([4, 1, 28, 28]) torch.Size([4])\n",
      "torch.Size([4, 1, 28, 28]) torch.Size([4])\n",
      "torch.Size([4, 1, 28, 28]) torch.Size([4])\n",
      "torch.Size([4, 1, 28, 28]) torch.Size([4])\n",
      "torch.Size([4, 1, 28, 28]) torch.Size([4])\n",
      "torch.Size([4, 1, 28, 28]) torch.Size([4])\n",
      "torch.Size([4, 1, 28, 28]) torch.Size([4])\n",
      "torch.Size([4, 1, 28, 28]) torch.Size([4])\n",
      "torch.Size([4, 1, 28, 28]) torch.Size([4])\n",
      "torch.Size([4, 1, 28, 28]) torch.Size([4])\n",
      "torch.Size([4, 1, 28, 28]) torch.Size([4])\n",
      "torch.Size([4, 1, 28, 28]) torch.Size([4])\n",
      "torch.Size([4, 1, 28, 28]) torch.Size([4])\n",
      "torch.Size([4, 1, 28, 28]) torch.Size([4])\n",
      "torch.Size([4, 1, 28, 28]) torch.Size([4])\n",
      "torch.Size([4, 1, 28, 28]) torch.Size([4])\n",
      "torch.Size([4, 1, 28, 28]) torch.Size([4])\n",
      "torch.Size([4, 1, 28, 28]) torch.Size([4])\n",
      "torch.Size([4, 1, 28, 28]) torch.Size([4])\n",
      "torch.Size([4, 1, 28, 28]) torch.Size([4])\n",
      "torch.Size([4, 1, 28, 28]) torch.Size([4])\n",
      "torch.Size([4, 1, 28, 28]) torch.Size([4])\n",
      "torch.Size([4, 1, 28, 28]) torch.Size([4])\n",
      "torch.Size([4, 1, 28, 28]) torch.Size([4])\n",
      "torch.Size([4, 1, 28, 28]) torch.Size([4])\n",
      "torch.Size([4, 1, 28, 28]) torch.Size([4])\n",
      "torch.Size([4, 1, 28, 28]) torch.Size([4])\n",
      "torch.Size([4, 1, 28, 28]) torch.Size([4])\n",
      "torch.Size([4, 1, 28, 28]) torch.Size([4])\n"
     ]
    }
   ],
   "source": [
    "for data, target in train_loader:\n",
    "    # print(data)\n",
    "    print(data.shape,target.shape)"
   ]
  },
  {
   "cell_type": "code",
   "execution_count": 11,
   "metadata": {},
   "outputs": [
    {
     "data": {
      "image/png": "[encoded data removed]",
      "text/plain": [
       "<Figure size 1000x1000 with 4 Axes>"
      ]
     },
     "metadata": {},
     "output_type": "display_data"
    }
   ],
   "source": [
    "\n",
    "fig = plt.figure(figsize=(10, 10)) \n",
    "\n",
    "\n",
    "for i in range(1,5):\n",
    "\n",
    "\n",
    "    fig.add_subplot(1,4,i)\n",
    "    plt.title(f'Label = {target[i-1]}')\n",
    "    plt.imshow(data[i-1].permute((1,2,0)))\n",
    "\n",
    "\n",
    "# for i in range(4):\n",
    "    "
   ]
  },
  {
   "cell_type": "code",
   "execution_count": 12,
   "metadata": {},
   "outputs": [
    {
     "name": "stderr",
     "output_type": "stream",
     "text": [
      "/tmp/ipykernel_5395/1602431124.py:10: UserWarning: To copy construct from a tensor, it is recommended to use sourceTensor.clone().detach() or sourceTensor.clone().detach().requires_grad_(True), rather than torch.tensor(sourceTensor).\n",
      "  target = torch.tensor(target)\n"
     ]
    }
   ],
   "source": [
    "\n",
    "num_epochs = 1\n",
    "\n",
    "embeddings  = []\n",
    "\n",
    "\n",
    "model.zero_grad()\n",
    "total_loss = 0\n",
    "for batch_idx, (data, target) in enumerate(train_loader):\n",
    "    img1, img2 = data[0], data[1]\n",
    "    target = torch.tensor(target)\n",
    "    optimizer.zero_grad()\n",
    "    output1, output2 = model(img1.to(mps_device), img2.to(mps_device))\n",
    "    embeddings.append([output1,target[0]])"
   ]
  },
  {
   "cell_type": "code",
   "execution_count": 13,
   "metadata": {},
   "outputs": [
    {
     "data": {
      "text/plain": [
       "40"
      ]
     },
     "execution_count": 13,
     "metadata": {},
     "output_type": "execute_result"
    }
   ],
   "source": [
    "len(embeddings)"
   ]
  },
  {
   "cell_type": "code",
   "execution_count": 14,
   "metadata": {},
   "outputs": [
    {
     "name": "stdout",
     "output_type": "stream",
     "text": [
      "tensor(5)\n",
      "tensor(6)\n",
      "tensor(2)\n",
      "tensor(1)\n",
      "tensor(5)\n",
      "tensor(4)\n",
      "tensor(2)\n",
      "tensor(3)\n",
      "tensor(9)\n",
      "tensor(1)\n",
      "tensor(0)\n",
      "tensor(2)\n",
      "tensor(0)\n",
      "tensor(8)\n",
      "tensor(5)\n",
      "tensor(1)\n",
      "tensor(5)\n",
      "tensor(8)\n",
      "tensor(9)\n",
      "tensor(7)\n",
      "tensor(5)\n",
      "tensor(8)\n",
      "tensor(1)\n",
      "tensor(2)\n",
      "tensor(6)\n",
      "tensor(3)\n",
      "tensor(2)\n",
      "tensor(9)\n",
      "tensor(2)\n",
      "tensor(1)\n",
      "tensor(5)\n",
      "tensor(4)\n",
      "tensor(8)\n",
      "tensor(9)\n",
      "tensor(3)\n",
      "tensor(4)\n",
      "tensor(0)\n",
      "tensor(1)\n",
      "tensor(4)\n",
      "tensor(2)\n"
     ]
    }
   ],
   "source": [
    "labels = torch.zeros(40,dtype=torch.int)\n",
    "\n",
    "for i in range(40):\n",
    "    labels[i] = embeddings[i][1]\n",
    "    print(embeddings[i][1])"
   ]
  },
  {
   "cell_type": "code",
   "execution_count": 15,
   "metadata": {},
   "outputs": [
    {
     "name": "stdout",
     "output_type": "stream",
     "text": [
      "tensor(5)\n",
      "tensor(6)\n",
      "tensor(2)\n",
      "tensor(1)\n",
      "tensor(5)\n",
      "tensor(4)\n",
      "tensor(2)\n",
      "tensor(3)\n",
      "tensor(9)\n",
      "tensor(1)\n",
      "tensor(0)\n",
      "tensor(2)\n",
      "tensor(0)\n",
      "tensor(8)\n",
      "tensor(5)\n",
      "tensor(1)\n",
      "tensor(5)\n",
      "tensor(8)\n",
      "tensor(9)\n",
      "tensor(7)\n",
      "tensor(5)\n",
      "tensor(8)\n",
      "tensor(1)\n",
      "tensor(2)\n",
      "tensor(6)\n",
      "tensor(3)\n",
      "tensor(2)\n",
      "tensor(9)\n",
      "tensor(2)\n",
      "tensor(1)\n",
      "tensor(5)\n",
      "tensor(4)\n",
      "tensor(8)\n",
      "tensor(9)\n",
      "tensor(3)\n",
      "tensor(4)\n",
      "tensor(0)\n",
      "tensor(1)\n",
      "tensor(4)\n",
      "tensor(2)\n"
     ]
    }
   ],
   "source": [
    "embeddingsFin = torch.zeros((40,512))\n",
    "for i in range(40):\n",
    "    embeddingsFin[i] = embeddings[i][0].squeeze()\n",
    "    print(embeddings[i][1])"
   ]
  },
  {
   "cell_type": "code",
   "execution_count": 16,
   "metadata": {},
   "outputs": [
    {
     "data": {
      "text/plain": [
       "torch.Size([512])"
      ]
     },
     "execution_count": 16,
     "metadata": {},
     "output_type": "execute_result"
    }
   ],
   "source": [
    "embeddingsFin[0].shape"
   ]
  },
  {
   "cell_type": "code",
   "execution_count": null,
   "metadata": {},
   "outputs": [],
   "source": []
  },
  {
   "cell_type": "code",
   "execution_count": 17,
   "metadata": {},
   "outputs": [
    {
     "data": {
      "text/plain": [
       "tensor([5, 6, 2, 1, 5, 4, 2, 3, 9, 1, 0, 2, 0, 8, 5, 1, 5, 8, 9, 7, 5, 8, 1, 2,\n",
       "        6, 3, 2, 9, 2, 1, 5, 4, 8, 9, 3, 4, 0, 1, 4, 2], dtype=torch.int32)"
      ]
     },
     "execution_count": 17,
     "metadata": {},
     "output_type": "execute_result"
    }
   ],
   "source": [
    "labels"
   ]
  },
  {
   "cell_type": "code",
   "execution_count": 18,
   "metadata": {},
   "outputs": [
    {
     "data": {
      "text/plain": [
       "tensor([[1.0000e+00, 1.0000e+00, 0.0000e+00,  ..., 0.0000e+00, 0.0000e+00,\n",
       "         1.0000e+00],\n",
       "        [1.0000e+00, 1.0000e+00, 1.4125e-24,  ..., 5.4364e-25, 1.2195e-16,\n",
       "         1.0000e+00],\n",
       "        [1.0000e+00, 1.0000e+00, 3.5718e-29,  ..., 4.8589e-29, 1.1376e-21,\n",
       "         1.0000e+00],\n",
       "        ...,\n",
       "        [1.0000e+00, 1.0000e+00, 0.0000e+00,  ..., 0.0000e+00, 0.0000e+00,\n",
       "         1.0000e+00],\n",
       "        [1.0000e+00, 1.0000e+00, 4.2394e-27,  ..., 7.8367e-27, 8.4924e-20,\n",
       "         1.0000e+00],\n",
       "        [1.0000e+00, 1.0000e+00, 8.5006e-30,  ..., 3.3172e-30, 3.3976e-20,\n",
       "         1.0000e+00]], grad_fn=<CopySlices>)"
      ]
     },
     "execution_count": 18,
     "metadata": {},
     "output_type": "execute_result"
    }
   ],
   "source": [
    "embeddingsFin"
   ]
  },
  {
   "cell_type": "code",
   "execution_count": 19,
   "metadata": {},
   "outputs": [
    {
     "data": {
      "text/plain": [
       "torch.Size([1, 512])"
      ]
     },
     "execution_count": 19,
     "metadata": {},
     "output_type": "execute_result"
    }
   ],
   "source": [
    "embeddings[0][0].shape"
   ]
  },
  {
   "cell_type": "code",
   "execution_count": 20,
   "metadata": {},
   "outputs": [
    {
     "data": {
      "text/plain": [
       "torch.Size([])"
      ]
     },
     "execution_count": 20,
     "metadata": {},
     "output_type": "execute_result"
    }
   ],
   "source": [
    "embeddings[0][1].shape"
   ]
  },
  {
   "cell_type": "code",
   "execution_count": 22,
   "metadata": {},
   "outputs": [
    {
     "data": {
      "image/png": "[encoded data removed]",
      "text/plain": [
       "<Figure size 640x480 with 1 Axes>"
      ]
     },
     "metadata": {},
     "output_type": "display_data"
    }
   ],
   "source": [
    "import torch\n",
    "import numpy as np\n",
    "import matplotlib.pyplot as plt\n",
    "from mpl_toolkits.mplot3d import Axes3D\n",
    "from sklearn.decomposition import PCA\n",
    "\n",
    "# Generate some random vectors in 512-dimensional space\n",
    "num_vectors = 40\n",
    "dim = 512\n",
    "vectors = embeddingsFin.detach().cpu()\n",
    "\n",
    "# Perform PCA for dimensionality reduction\n",
    "pca = PCA(n_components=3)\n",
    "vectors_3d = pca.fit_transform(vectors)\n",
    "\n",
    "# Generate some random class labels for demonstration\n",
    "classes = labels.detach().cpu()\n",
    "\n",
    "# Plotting\n",
    "fig = plt.figure()\n",
    "ax = fig.add_subplot(111, projection='3d')\n",
    "\n",
    "for i in range(5):  # Plotting each class separately\n",
    "    indices = (classes == i).nonzero().squeeze()\n",
    "    # print(indices)\n",
    "    ax.scatter(vectors_3d[indices, 0], vectors_3d[indices, 1], vectors_3d[indices, 2], label=f'Class {classes[i]}')\n",
    "\n",
    "ax.set_xlabel('PC1')\n",
    "ax.set_ylabel('PC2')\n",
    "ax.set_zlabel('PC3')\n",
    "ax.set_title('PCA Visualization of Vectors in 3D Space')\n",
    "ax.legend()\n",
    "\n",
    "plt.show()\n"
   ]
  },
  {
   "cell_type": "code",
   "execution_count": 23,
   "metadata": {},
   "outputs": [
    {
     "name": "stderr",
     "output_type": "stream",
     "text": [
      "/tmp/ipykernel_5395/3701420911.py:13: UserWarning: To copy construct from a tensor, it is recommended to use sourceTensor.clone().detach() or sourceTensor.clone().detach().requires_grad_(True), rather than torch.tensor(sourceTensor).\n",
      "  target = torch.tensor(target)\n"
     ]
    }
   ],
   "source": [
    "\n",
    "num_epochs = 1\n",
    "\n",
    "embeddings  = []\n",
    "\n",
    "\n",
    "model.zero_grad()\n",
    "total_loss = 0\n",
    "\n",
    "for batch_idx, (data_test, target_test) in enumerate(test_loader):\n",
    "\n",
    "    for batch_idx, (data, target) in enumerate(train_loader):\n",
    "        img1, img2 = data[0], data[1]\n",
    "        target = torch.tensor(target)\n",
    "        optimizer.zero_grad()\n",
    "        output1, output2 = model(img1.to(mps_device), img2.to(mps_device))\n",
    "        embeddings.append([output1,target[0]])"
   ]
  },
  {
   "cell_type": "markdown",
   "metadata": {},
   "source": [
    "## Inferencing"
   ]
  },
  {
   "cell_type": "code",
   "execution_count": 24,
   "metadata": {},
   "outputs": [
    {
     "name": "stderr",
     "output_type": "stream",
     "text": [
      "/tmp/ipykernel_5395/3984306244.py:18: UserWarning: To copy construct from a tensor, it is recommended to use sourceTensor.clone().detach() or sourceTensor.clone().detach().requires_grad_(True), rather than torch.tensor(sourceTensor).\n",
      "  target_train = torch.tensor(target)\n",
      "/tmp/ipykernel_5395/3984306244.py:24: UserWarning: To copy construct from a tensor, it is recommended to use sourceTensor.clone().detach() or sourceTensor.clone().detach().requires_grad_(True), rather than torch.tensor(sourceTensor).\n",
      "  lossCurr.append([target_train[0],torch.tensor(target_test),loss.detach().cpu()])\n"
     ]
    }
   ],
   "source": [
    "\n",
    "embeddingsx  = []\n",
    "\n",
    "\n",
    "model.zero_grad()\n",
    "total_loss = 0\n",
    "\n",
    "\n",
    "finalLosses =[]\n",
    "\n",
    "for batch_idx, (data_test, target_test) in enumerate(test_loader):\n",
    "    lossCurr = []\n",
    "    # print(data_test.shape,target_test.shape)\n",
    "    for batch_idx, (data, target) in enumerate(train_loader):\n",
    "        img1 = data_test[0]\n",
    "        img2 = data[0]\n",
    "\n",
    "\n",
    "        target_train = torch.tensor(target)\n",
    "        optimizer.zero_grad()\n",
    "        output1, output2 = model(img1.to(mps_device), img2.to(mps_device))\n",
    "        embeddings.append([output1,target[0]])\n",
    "\n",
    "        loss = criterion(output1, output2, target.to(mps_device))\n",
    "        lossCurr.append([target_train[0],torch.tensor(target_test),loss.detach().cpu()])\n",
    "    finalLosses.append(lossCurr)\n",
    "    \n"
   ]
  },
  {
   "cell_type": "code",
   "execution_count": 25,
   "metadata": {},
   "outputs": [
    {
     "name": "stdout",
     "output_type": "stream",
     "text": [
      "[tensor(1), tensor([5]), tensor(0.)]\n",
      "[tensor(1), tensor([6]), tensor(0.)]\n",
      "[tensor(0), tensor([1]), tensor(0.0002)]\n",
      "[tensor(1), tensor([6]), tensor(0.)]\n",
      "[tensor(1), tensor([8]), tensor(0.0206)]\n",
      "[tensor(9), tensor([9]), tensor(0.4553)]\n",
      "[tensor(9), tensor([6]), tensor(0.6762)]\n",
      "[tensor(0), tensor([2]), tensor(0.8934)]\n",
      "[tensor(2), tensor([2]), tensor(-0.1230)]\n",
      "[tensor(0), tensor([3]), tensor(0.0110)]\n"
     ]
    }
   ],
   "source": [
    "for i in range(10):\n",
    "\n",
    "    lossXs = finalLosses[i]\n",
    "    lossesX = []\n",
    "\n",
    "    for i in range(40):\n",
    "        lossesX.append(lossXs[i][2].item())\n",
    "\n",
    "    lossesX = np.array(lossesX)\n",
    "    print(lossXs[np.argmin(np.abs(lossesX))])"
   ]
  },
  {
   "cell_type": "markdown",
   "metadata": {},
   "source": [
    "## W/O CNN"
   ]
  },
  {
   "cell_type": "code",
   "execution_count": 26,
   "metadata": {},
   "outputs": [],
   "source": [
    "# Define Siamese Network\n",
    "class SiameseNetwork2(nn.Module):\n",
    "    def __init__(self):\n",
    "        super(SiameseNetwork2, self).__init__()\n",
    "        self.cnn = nn.Sequential(\n",
    "            nn.Flatten(),\n",
    "            nn.Linear(28*28, 512),\n",
    "            nn.ReLU(True),\n",
    "            nn.Linear(512, 256),\n",
    "            nn.ReLU(True),\n",
    "            nn.Linear(256, 128),\n",
    "            nn.ReLU(True),\n",
    "            nn.Linear(128, 64),  # Bottleneck layer\n",
    "        )\n",
    "        # self.gap = GlobalAvgPool2d()\n",
    "\n",
    "        # self.fc = nn.Sequential(\n",
    "        #     nn.Linear(128, 512),\n",
    "        #     nn.Sigmoid()\n",
    "        # )\n",
    "        \n",
    "    def forward_one(self, x):\n",
    "        x = self.cnn(x)\n",
    "        # x = self.gap(x)\n",
    "        # x = x.view(x.size()[0], -1)\n",
    "        # x = self.fc(x.T)\n",
    "        return x\n",
    "    \n",
    "    def forward(self, input1, input2):\n",
    "        output1 = self.forward_one(input1)\n",
    "        output2 = self.forward_one(input2)\n",
    "        return output1, output2\n",
    "\n",
    "class ContrastiveLoss(nn.Module):\n",
    "    def __init__(self, margin=2.0):\n",
    "        super(ContrastiveLoss, self).__init__()\n",
    "        self.margin = margin\n",
    "        \n",
    "    def forward(self, output1, output2, label):\n",
    "        euclidean_distance = nn.functional.pairwise_distance(output1, output2, keepdim=True)\n",
    "        loss_contrastive = torch.mean((1-label) * torch.pow(euclidean_distance, 2) +\n",
    "                                      (label) * torch.pow(torch.clamp(self.margin - euclidean_distance, min=0.0), 2))\n",
    "        return loss_contrastive\n",
    "\n",
    "\n",
    "class SiameseSampler(Sampler):\n",
    "    def __init__(self, data_source, classes_per_batch=10, samples_per_class=4):\n",
    "        self.data_source = data_source\n",
    "        self.classes_per_batch = classes_per_batch\n",
    "        self.samples_per_class = samples_per_class\n",
    "        self.class_indices = {label.item(): [] for label in self.data_source.targets}\n",
    "        for idx, label in enumerate(self.data_source.targets):\n",
    "            self.class_indices[label.item()].append(idx)\n",
    "            \n",
    "    def __iter__(self):\n",
    "        batch_indices = []\n",
    "        for _ in range(self.classes_per_batch):\n",
    "            selected_classes = random.sample(range(10), self.samples_per_class) \n",
    "            for class_label in selected_classes:\n",
    "                selected_indices = random.sample(self.class_indices[class_label], self.samples_per_class)\n",
    "                batch_indices.append(selected_indices)\n",
    "        return iter(batch_indices)\n",
    "    \n",
    "    def __len__(self):\n",
    "        return self.classes_per_batch\n",
    "\n",
    "transform = transforms.Compose([\n",
    "    transforms.ToTensor()\n",
    "])\n",
    "\n",
    "train_dataset = MNIST(root='mnist_data', train=True, download=True, transform=transform)\n",
    "train_sampler = SiameseSampler(train_dataset)\n",
    "train_loader = DataLoader(train_dataset, batch_sampler=train_sampler)\n"
   ]
  },
  {
   "cell_type": "code",
   "execution_count": 27,
   "metadata": {},
   "outputs": [
    {
     "data": {
      "text/plain": [
       "SiameseNetwork2(\n",
       "  (cnn): Sequential(\n",
       "    (0): Flatten(start_dim=1, end_dim=-1)\n",
       "    (1): Linear(in_features=784, out_features=512, bias=True)\n",
       "    (2): ReLU(inplace=True)\n",
       "    (3): Linear(in_features=512, out_features=256, bias=True)\n",
       "    (4): ReLU(inplace=True)\n",
       "    (5): Linear(in_features=256, out_features=128, bias=True)\n",
       "    (6): ReLU(inplace=True)\n",
       "    (7): Linear(in_features=128, out_features=64, bias=True)\n",
       "  )\n",
       ")"
      ]
     },
     "execution_count": 27,
     "metadata": {},
     "output_type": "execute_result"
    }
   ],
   "source": [
    "\n",
    "# Initialize Model, Loss Function, and Optimizer\n",
    "model = SiameseNetwork2()\n",
    "criterion = ContrastiveLoss()\n",
    "optimizer = optim.Adam(model.parameters(), lr=1e-3)\n",
    "\n",
    "model.to(mps_device)\n",
    "\n"
   ]
  },
  {
   "cell_type": "code",
   "execution_count": 28,
   "metadata": {},
   "outputs": [
    {
     "name": "stderr",
     "output_type": "stream",
     "text": [
      "/tmp/ipykernel_5395/2353844553.py:8: UserWarning: To copy construct from a tensor, it is recommended to use sourceTensor.clone().detach() or sourceTensor.clone().detach().requires_grad_(True), rather than torch.tensor(sourceTensor).\n",
      "  target = torch.tensor(target)\n"
     ]
    },
    {
     "name": "stdout",
     "output_type": "stream",
     "text": [
      "Epoch 1, Loss: -1130.3816400635988\n",
      "Epoch 2, Loss: -52242656.28417969\n",
      "Epoch 3, Loss: -5452309384.971069\n",
      "Epoch 4, Loss: -214163463890.5\n",
      "Epoch 5, Loss: -7006280322576.0\n",
      "Epoch 6, Loss: -50804645257664.0\n",
      "Epoch 7, Loss: -649347503766528.0\n",
      "Epoch 8, Loss: -2917927436476416.0\n",
      "Epoch 9, Loss: -9393625426503168.0\n",
      "Epoch 10, Loss: -1.4427517900849152e+16\n",
      "Epoch 11, Loss: -2.124040397180109e+16\n",
      "Epoch 12, Loss: -4.613090017469645e+16\n",
      "Epoch 13, Loss: -1.660174356274217e+17\n",
      "Epoch 14, Loss: -1.9047570724501914e+17\n",
      "Epoch 15, Loss: -3.879691573470167e+17\n",
      "Epoch 16, Loss: -1.3856649692850422e+18\n",
      "Epoch 17, Loss: -2.2348638831055892e+18\n",
      "Epoch 18, Loss: -5.045715048622719e+18\n",
      "Epoch 19, Loss: -8.962975882528424e+18\n",
      "Epoch 20, Loss: -6.934002698278666e+18\n",
      "Epoch 21, Loss: -1.8322232864977977e+19\n",
      "Epoch 22, Loss: -2.634897901279091e+19\n",
      "Epoch 23, Loss: -3.2788421446895403e+19\n",
      "Epoch 24, Loss: -6.735469804734382e+19\n",
      "Epoch 25, Loss: -5.588063543543149e+19\n",
      "Epoch 26, Loss: -9.626650742945219e+19\n",
      "Epoch 27, Loss: -1.7151353274134168e+20\n",
      "Epoch 28, Loss: -3.539716346686965e+20\n",
      "Epoch 29, Loss: -4.878573090433359e+20\n",
      "Epoch 30, Loss: -2.8246050150296637e+20\n",
      "Epoch 31, Loss: -3.647799616279738e+20\n",
      "Epoch 32, Loss: -4.3431289394654976e+20\n",
      "Epoch 33, Loss: -1.2311824601335537e+21\n",
      "Epoch 34, Loss: -1.1228544361633499e+21\n",
      "Epoch 35, Loss: -1.0040909930158673e+21\n",
      "Epoch 36, Loss: -1.997909898153429e+21\n",
      "Epoch 37, Loss: -2.809486344299458e+21\n",
      "Epoch 38, Loss: -3.232271127553069e+21\n",
      "Epoch 39, Loss: -3.216340294885209e+21\n",
      "Epoch 40, Loss: -1.7056835640302953e+21\n"
     ]
    }
   ],
   "source": [
    "# Training Loop\n",
    "num_epochs = 40\n",
    "for epoch in range(num_epochs):\n",
    "    model.train()\n",
    "    total_loss = 0\n",
    "    for batch_idx, (data, target) in enumerate(train_loader):\n",
    "        img1, img2 = data[0], data[1]\n",
    "        target = torch.tensor(target)\n",
    "        optimizer.zero_grad()\n",
    "        output1, output2 = model(img1.to(mps_device), img2.to(mps_device))\n",
    "        loss = criterion(output1, output2, target.to(mps_device))\n",
    "        loss.backward()\n",
    "        optimizer.step()\n",
    "        total_loss += loss.item()\n",
    "    print(f\"Epoch {epoch+1}, Loss: {total_loss}\")\n",
    "\n",
    "torch.save(model.state_dict(), 'siamese_model_mnist.pth')\n"
   ]
  },
  {
   "cell_type": "code",
   "execution_count": 29,
   "metadata": {},
   "outputs": [
    {
     "name": "stderr",
     "output_type": "stream",
     "text": [
      "/tmp/ipykernel_5395/3701420911.py:13: UserWarning: To copy construct from a tensor, it is recommended to use sourceTensor.clone().detach() or sourceTensor.clone().detach().requires_grad_(True), rather than torch.tensor(sourceTensor).\n",
      "  target = torch.tensor(target)\n"
     ]
    }
   ],
   "source": [
    "\n",
    "num_epochs = 1\n",
    "\n",
    "embeddings  = []\n",
    "\n",
    "\n",
    "model.zero_grad()\n",
    "total_loss = 0\n",
    "\n",
    "for batch_idx, (data_test, target_test) in enumerate(test_loader):\n",
    "\n",
    "    for batch_idx, (data, target) in enumerate(train_loader):\n",
    "        img1, img2 = data[0], data[1]\n",
    "        target = torch.tensor(target)\n",
    "        optimizer.zero_grad()\n",
    "        output1, output2 = model(img1.to(mps_device), img2.to(mps_device))\n",
    "        embeddings.append([output1,target[0]])"
   ]
  },
  {
   "cell_type": "code",
   "execution_count": 30,
   "metadata": {},
   "outputs": [
    {
     "name": "stderr",
     "output_type": "stream",
     "text": [
      "/tmp/ipykernel_5395/3984306244.py:18: UserWarning: To copy construct from a tensor, it is recommended to use sourceTensor.clone().detach() or sourceTensor.clone().detach().requires_grad_(True), rather than torch.tensor(sourceTensor).\n",
      "  target_train = torch.tensor(target)\n",
      "/tmp/ipykernel_5395/3984306244.py:24: UserWarning: To copy construct from a tensor, it is recommended to use sourceTensor.clone().detach() or sourceTensor.clone().detach().requires_grad_(True), rather than torch.tensor(sourceTensor).\n",
      "  lossCurr.append([target_train[0],torch.tensor(target_test),loss.detach().cpu()])\n"
     ]
    }
   ],
   "source": [
    "\n",
    "embeddingsx  = []\n",
    "\n",
    "\n",
    "model.zero_grad()\n",
    "total_loss = 0\n",
    "\n",
    "\n",
    "finalLosses =[]\n",
    "\n",
    "for batch_idx, (data_test, target_test) in enumerate(test_loader):\n",
    "    lossCurr = []\n",
    "    # print(data_test.shape,target_test.shape)\n",
    "    for batch_idx, (data, target) in enumerate(train_loader):\n",
    "        img1 = data_test[0]\n",
    "        img2 = data[0]\n",
    "\n",
    "\n",
    "        target_train = torch.tensor(target)\n",
    "        optimizer.zero_grad()\n",
    "        output1, output2 = model(img1.to(mps_device), img2.to(mps_device))\n",
    "        embeddings.append([output1,target[0]])\n",
    "\n",
    "        loss = criterion(output1, output2, target.to(mps_device))\n",
    "        lossCurr.append([target_train[0],torch.tensor(target_test),loss.detach().cpu()])\n",
    "    finalLosses.append(lossCurr)\n",
    "    \n"
   ]
  },
  {
   "cell_type": "code",
   "execution_count": 31,
   "metadata": {},
   "outputs": [
    {
     "name": "stdout",
     "output_type": "stream",
     "text": [
      "[tensor(1), tensor([4]), tensor(0.)]\n",
      "[tensor(1), tensor([0]), tensor(0.)]\n",
      "[tensor(1), tensor([5]), tensor(0.)]\n",
      "[tensor(1), tensor([1]), tensor(0.)]\n",
      "[tensor(1), tensor([1]), tensor(0.)]\n",
      "[tensor(1), tensor([5]), tensor(0.)]\n",
      "[tensor(1), tensor([1]), tensor(0.)]\n",
      "[tensor(1), tensor([3]), tensor(0.)]\n",
      "[tensor(1), tensor([1]), tensor(0.)]\n",
      "[tensor(1), tensor([7]), tensor(0.)]\n"
     ]
    }
   ],
   "source": [
    "for i in range(10):\n",
    "\n",
    "    lossXs = finalLosses[i]\n",
    "    lossesX = []\n",
    "\n",
    "    for i in range(40):\n",
    "        lossesX.append(lossXs[i][2].item())\n",
    "\n",
    "    lossesX = np.array(lossesX)\n",
    "    print(lossXs[np.argmin(np.abs(lossesX))])"
   ]
  },
  {
   "cell_type": "markdown",
   "metadata": {},
   "source": [
    "## FSL-2"
   ]
  },
  {
   "cell_type": "code",
   "execution_count": 46,
   "metadata": {},
   "outputs": [],
   "source": [
    "class GlobalAvgPool2d(nn.Module):\n",
    "    def __init__(self):\n",
    "        super(GlobalAvgPool2d, self).__init__()\n",
    "\n",
    "    def forward(self, x):\n",
    "        return nn.functional.adaptive_avg_pool2d(x, (1, 1)).view(x.size(0), -1)\n"
   ]
  },
  {
   "cell_type": "code",
   "execution_count": 56,
   "metadata": {},
   "outputs": [],
   "source": [
    "import torch\n",
    "import torchvision\n",
    "import torch.nn as nn\n",
    "import torch.optim as optim\n",
    "from torchvision import transforms\n",
    "from torch.utils.data import DataLoader, Dataset\n",
    "import numpy as np\n",
    "\n",
    "# Define Siamese network architecture\n",
    "class SiameseNetwork(nn.Module):\n",
    "    def __init__(self):\n",
    "        super(SiameseNetwork, self).__init__()\n",
    "        self.convolutional_layers = nn.Sequential(\n",
    "            nn.Conv2d(1, 64, kernel_size=3),\n",
    "            nn.ReLU(inplace=True),\n",
    "            nn.MaxPool2d(2),\n",
    "            nn.Conv2d(64, 128, kernel_size=3),\n",
    "            nn.ReLU(inplace=True),\n",
    "            # nn.MaxPool2d(2),\n",
    "            \n",
    "            # nn.Conv2d(128, 128, kernel_size=3),\n",
    "            # nn.ReLU(inplace=True),\n",
    "            # nn.MaxPool2d(2),\n",
    "            # nn.Conv2d(128, 256, kernel_size=3),\n",
    "            # nn.ReLU(inplace=True)\n",
    "        )\n",
    "\n",
    "        self.gap = GlobalAvgPool2d()\n",
    "        \n",
    "        self.fc_layers = nn.Sequential(\n",
    "            nn.Linear(128, 1024),\n",
    "            nn.Sigmoid()\n",
    "        )\n",
    "\n",
    "    def forward_once(self, x):\n",
    "        x = self.convolutional_layers(x)\n",
    "        x = self.gap(x)\n",
    "        x = x.view(x.size()[0], -1)\n",
    "        x = self.fc_layers(x)\n",
    "        return x\n",
    "\n",
    "    def forward(self, input1, input2):\n",
    "        output1 = self.forward_once(input1)\n",
    "        output2 = self.forward_once(input2)\n",
    "        return output1, output2\n",
    "\n",
    "# Define Contrastive Loss\n",
    "class ContrastiveLoss(nn.Module):\n",
    "    def __init__(self, margin=2.0):\n",
    "        super(ContrastiveLoss, self).__init__()\n",
    "        self.margin = margin\n",
    "\n",
    "    def forward(self, output1, output2, label):\n",
    "        euclidean_distance = nn.functional.pairwise_distance(output1, output2, keepdim=True)\n",
    "        loss_contrastive = torch.mean((1-label) * torch.pow(euclidean_distance, 2) +\n",
    "                                      (label) * torch.pow(torch.clamp(self.margin - euclidean_distance, min=0.0), 2))\n",
    "\n",
    "        return loss_contrastive\n",
    "\n",
    "# Custom Dataset for Siamese Network\n",
    "class SiameseDataset(Dataset):\n",
    "    def __init__(self, mnist_dataset):\n",
    "        self.mnist_dataset = mnist_dataset\n",
    "        self.transform = transforms.Compose([\n",
    "            transforms.Resize((28, 28)),\n",
    "            # transforms.ToTensor(),\n",
    "            transforms.Normalize((0.5,), (0.5,))\n",
    "        ])\n",
    "\n",
    "    def __getitem__(self, index):\n",
    "        img1, label1 = self.mnist_dataset[index]\n",
    "        # Randomly select a second sample\n",
    "        same_class = torch.rand(1).item() > 0.5\n",
    "        if same_class:\n",
    "            while True:\n",
    "                img2, label2 = self.mnist_dataset[np.random.randint(len(self.mnist_dataset))]\n",
    "                if label1 == label2:\n",
    "                    break\n",
    "        else:\n",
    "            while True:\n",
    "                img2, label2 = self.mnist_dataset[np.random.randint(len(self.mnist_dataset))]\n",
    "                if label1 != label2:\n",
    "                    break\n",
    "\n",
    "        img1 = self.transform(img1)\n",
    "        img2 = self.transform(img2)\n",
    "\n",
    "        return img1, img2, torch.tensor([int(label1 == label2)], dtype=torch.float32)\n",
    "\n",
    "    def __len__(self):\n",
    "        return len(self.mnist_dataset)\n",
    "\n",
    "# Load MNIST dataset\n",
    "transform = transforms.Compose([\n",
    "    transforms.ToTensor(),\n",
    "    transforms.Normalize((0.5,), (0.5,))\n",
    "])\n",
    "\n",
    "train_dataset = torchvision.datasets.MNIST(root='./data', train=True, download=True, transform=transform)\n",
    "train_loader = DataLoader(SiameseDataset(train_dataset), batch_size=1, shuffle=True)\n"
   ]
  },
  {
   "cell_type": "code",
   "execution_count": 57,
   "metadata": {},
   "outputs": [],
   "source": [
    "from tqdm import tqdm"
   ]
  },
  {
   "cell_type": "code",
   "execution_count": 59,
   "metadata": {},
   "outputs": [
    {
     "name": "stderr",
     "output_type": "stream",
     "text": [
      "0it [00:00, ?it/s]\n"
     ]
    },
    {
     "ename": "ValueError",
     "evalue": "not enough values to unpack (expected 4, got 2)",
     "output_type": "error",
     "traceback": [
      "\u001b[0;31m---------------------------------------------------------------------------\u001b[0m",
      "\u001b[0;31mValueError\u001b[0m                                Traceback (most recent call last)",
      "Cell \u001b[0;32mIn[59], line 10\u001b[0m\n\u001b[1;32m      8\u001b[0m num_epochs \u001b[38;5;241m=\u001b[39m \u001b[38;5;241m10\u001b[39m\n\u001b[1;32m      9\u001b[0m \u001b[38;5;28;01mfor\u001b[39;00m epoch \u001b[38;5;129;01min\u001b[39;00m \u001b[38;5;28mrange\u001b[39m(num_epochs):\n\u001b[0;32m---> 10\u001b[0m     \u001b[38;5;28;01mfor\u001b[39;00m i, img1, img2, label \u001b[38;5;129;01min\u001b[39;00m tqdm(\u001b[38;5;28menumerate\u001b[39m(train_loader)):\n\u001b[1;32m     11\u001b[0m         optimizer\u001b[38;5;241m.\u001b[39mzero_grad()\n\u001b[1;32m     12\u001b[0m         output1, output2 \u001b[38;5;241m=\u001b[39m siamese_net(img1\u001b[38;5;241m.\u001b[39mto(device), img2\u001b[38;5;241m.\u001b[39mto(device))\n",
      "\u001b[0;31mValueError\u001b[0m: not enough values to unpack (expected 4, got 2)"
     ]
    }
   ],
   "source": [
    "\n",
    "siamese_net = SiameseNetwork()\n",
    "criterion = ContrastiveLoss()\n",
    "optimizer = optim.Adam(siamese_net.parameters(), lr=1e-4)\n",
    "\n",
    "\n",
    "siamese_net.to(device)\n",
    "\n",
    "num_epochs = 10\n",
    "for epoch in range(num_epochs):\n",
    "    for i, img1, img2, label in tqdm(enumerate(train_loader)):\n",
    "        optimizer.zero_grad()\n",
    "        output1, output2 = siamese_net(img1.to(device), img2.to(device))\n",
    "        loss = criterion(output1, output2, label.to(device))\n",
    "        loss.backward()\n",
    "        optimizer.step()\n",
    "\n",
    "    print(f\"Epoch [{epoch+1}/{num_epochs}], Step [{i+1}/{len(train_loader)}], Loss: {loss.item():.4f}\")\n",
    "\n",
    "print(\"Training finished!\")\n"
   ]
  },
  {
   "cell_type": "code",
   "execution_count": 50,
   "metadata": {},
   "outputs": [],
   "source": [
    "test_dataset = torchvision.datasets.MNIST(root='./data', train=False, download=True, transform=transform)\n",
    "test_loader = DataLoader(SiameseDataset(test_dataset), batch_size=1, shuffle=False)\n"
   ]
  },
  {
   "cell_type": "code",
   "execution_count": 52,
   "metadata": {},
   "outputs": [
    {
     "name": "stderr",
     "output_type": "stream",
     "text": [
      "  0%|          | 1/10000 [00:57<160:47:32, 57.89s/it]\n"
     ]
    },
    {
     "ename": "KeyboardInterrupt",
     "evalue": "",
     "output_type": "error",
     "traceback": [
      "\u001b[0;31m---------------------------------------------------------------------------\u001b[0m",
      "\u001b[0;31mKeyboardInterrupt\u001b[0m                         Traceback (most recent call last)",
      "Cell \u001b[0;32mIn[52], line 12\u001b[0m\n\u001b[1;32m     10\u001b[0m distances \u001b[38;5;241m=\u001b[39m []\n\u001b[1;32m     11\u001b[0m \u001b[38;5;28;01mfor\u001b[39;00m idx, (support_img, _, _) \u001b[38;5;129;01min\u001b[39;00m \u001b[38;5;28menumerate\u001b[39m(train_loader):\n\u001b[0;32m---> 12\u001b[0m     output1, output2 \u001b[38;5;241m=\u001b[39m \u001b[43msiamese_net\u001b[49m\u001b[43m(\u001b[49m\u001b[43mtest_img\u001b[49m\u001b[38;5;241;43m.\u001b[39;49m\u001b[43mto\u001b[49m\u001b[43m(\u001b[49m\u001b[43mdevice\u001b[49m\u001b[43m)\u001b[49m\u001b[43m,\u001b[49m\u001b[43m \u001b[49m\u001b[43msupport_img\u001b[49m\u001b[38;5;241;43m.\u001b[39;49m\u001b[43mto\u001b[49m\u001b[43m(\u001b[49m\u001b[43mdevice\u001b[49m\u001b[43m)\u001b[49m\u001b[43m)\u001b[49m\n\u001b[1;32m     14\u001b[0m     \u001b[38;5;66;03m# print(output1.shape,output2.shape)\u001b[39;00m\n\u001b[1;32m     16\u001b[0m     euclidean_distance \u001b[38;5;241m=\u001b[39m nn\u001b[38;5;241m.\u001b[39mfunctional\u001b[38;5;241m.\u001b[39mpairwise_distance(output1, output2)\n",
      "File \u001b[0;32m~/miniconda3/envs/gen/lib/python3.8/site-packages/torch/nn/modules/module.py:1511\u001b[0m, in \u001b[0;36mModule._wrapped_call_impl\u001b[0;34m(self, *args, **kwargs)\u001b[0m\n\u001b[1;32m   1509\u001b[0m     \u001b[38;5;28;01mreturn\u001b[39;00m \u001b[38;5;28mself\u001b[39m\u001b[38;5;241m.\u001b[39m_compiled_call_impl(\u001b[38;5;241m*\u001b[39margs, \u001b[38;5;241m*\u001b[39m\u001b[38;5;241m*\u001b[39mkwargs)  \u001b[38;5;66;03m# type: ignore[misc]\u001b[39;00m\n\u001b[1;32m   1510\u001b[0m \u001b[38;5;28;01melse\u001b[39;00m:\n\u001b[0;32m-> 1511\u001b[0m     \u001b[38;5;28;01mreturn\u001b[39;00m \u001b[38;5;28;43mself\u001b[39;49m\u001b[38;5;241;43m.\u001b[39;49m\u001b[43m_call_impl\u001b[49m\u001b[43m(\u001b[49m\u001b[38;5;241;43m*\u001b[39;49m\u001b[43margs\u001b[49m\u001b[43m,\u001b[49m\u001b[43m \u001b[49m\u001b[38;5;241;43m*\u001b[39;49m\u001b[38;5;241;43m*\u001b[39;49m\u001b[43mkwargs\u001b[49m\u001b[43m)\u001b[49m\n",
      "File \u001b[0;32m~/miniconda3/envs/gen/lib/python3.8/site-packages/torch/nn/modules/module.py:1520\u001b[0m, in \u001b[0;36mModule._call_impl\u001b[0;34m(self, *args, **kwargs)\u001b[0m\n\u001b[1;32m   1515\u001b[0m \u001b[38;5;66;03m# If we don't have any hooks, we want to skip the rest of the logic in\u001b[39;00m\n\u001b[1;32m   1516\u001b[0m \u001b[38;5;66;03m# this function, and just call forward.\u001b[39;00m\n\u001b[1;32m   1517\u001b[0m \u001b[38;5;28;01mif\u001b[39;00m \u001b[38;5;129;01mnot\u001b[39;00m (\u001b[38;5;28mself\u001b[39m\u001b[38;5;241m.\u001b[39m_backward_hooks \u001b[38;5;129;01mor\u001b[39;00m \u001b[38;5;28mself\u001b[39m\u001b[38;5;241m.\u001b[39m_backward_pre_hooks \u001b[38;5;129;01mor\u001b[39;00m \u001b[38;5;28mself\u001b[39m\u001b[38;5;241m.\u001b[39m_forward_hooks \u001b[38;5;129;01mor\u001b[39;00m \u001b[38;5;28mself\u001b[39m\u001b[38;5;241m.\u001b[39m_forward_pre_hooks\n\u001b[1;32m   1518\u001b[0m         \u001b[38;5;129;01mor\u001b[39;00m _global_backward_pre_hooks \u001b[38;5;129;01mor\u001b[39;00m _global_backward_hooks\n\u001b[1;32m   1519\u001b[0m         \u001b[38;5;129;01mor\u001b[39;00m _global_forward_hooks \u001b[38;5;129;01mor\u001b[39;00m _global_forward_pre_hooks):\n\u001b[0;32m-> 1520\u001b[0m     \u001b[38;5;28;01mreturn\u001b[39;00m \u001b[43mforward_call\u001b[49m\u001b[43m(\u001b[49m\u001b[38;5;241;43m*\u001b[39;49m\u001b[43margs\u001b[49m\u001b[43m,\u001b[49m\u001b[43m \u001b[49m\u001b[38;5;241;43m*\u001b[39;49m\u001b[38;5;241;43m*\u001b[39;49m\u001b[43mkwargs\u001b[49m\u001b[43m)\u001b[49m\n\u001b[1;32m   1522\u001b[0m \u001b[38;5;28;01mtry\u001b[39;00m:\n\u001b[1;32m   1523\u001b[0m     result \u001b[38;5;241m=\u001b[39m \u001b[38;5;28;01mNone\u001b[39;00m\n",
      "Cell \u001b[0;32mIn[47], line 44\u001b[0m, in \u001b[0;36mSiameseNetwork.forward\u001b[0;34m(self, input1, input2)\u001b[0m\n\u001b[1;32m     42\u001b[0m \u001b[38;5;28;01mdef\u001b[39;00m \u001b[38;5;21mforward\u001b[39m(\u001b[38;5;28mself\u001b[39m, input1, input2):\n\u001b[1;32m     43\u001b[0m     output1 \u001b[38;5;241m=\u001b[39m \u001b[38;5;28mself\u001b[39m\u001b[38;5;241m.\u001b[39mforward_once(input1)\n\u001b[0;32m---> 44\u001b[0m     output2 \u001b[38;5;241m=\u001b[39m \u001b[38;5;28;43mself\u001b[39;49m\u001b[38;5;241;43m.\u001b[39;49m\u001b[43mforward_once\u001b[49m\u001b[43m(\u001b[49m\u001b[43minput2\u001b[49m\u001b[43m)\u001b[49m\n\u001b[1;32m     45\u001b[0m     \u001b[38;5;28;01mreturn\u001b[39;00m output1, output2\n",
      "Cell \u001b[0;32mIn[47], line 36\u001b[0m, in \u001b[0;36mSiameseNetwork.forward_once\u001b[0;34m(self, x)\u001b[0m\n\u001b[1;32m     35\u001b[0m \u001b[38;5;28;01mdef\u001b[39;00m \u001b[38;5;21mforward_once\u001b[39m(\u001b[38;5;28mself\u001b[39m, x):\n\u001b[0;32m---> 36\u001b[0m     x \u001b[38;5;241m=\u001b[39m \u001b[38;5;28;43mself\u001b[39;49m\u001b[38;5;241;43m.\u001b[39;49m\u001b[43mconvolutional_layers\u001b[49m\u001b[43m(\u001b[49m\u001b[43mx\u001b[49m\u001b[43m)\u001b[49m\n\u001b[1;32m     37\u001b[0m     x \u001b[38;5;241m=\u001b[39m \u001b[38;5;28mself\u001b[39m\u001b[38;5;241m.\u001b[39mgap(x)\n\u001b[1;32m     38\u001b[0m     x \u001b[38;5;241m=\u001b[39m x\u001b[38;5;241m.\u001b[39mview(x\u001b[38;5;241m.\u001b[39msize()[\u001b[38;5;241m0\u001b[39m], \u001b[38;5;241m-\u001b[39m\u001b[38;5;241m1\u001b[39m)\n",
      "File \u001b[0;32m~/miniconda3/envs/gen/lib/python3.8/site-packages/torch/nn/modules/module.py:1511\u001b[0m, in \u001b[0;36mModule._wrapped_call_impl\u001b[0;34m(self, *args, **kwargs)\u001b[0m\n\u001b[1;32m   1509\u001b[0m     \u001b[38;5;28;01mreturn\u001b[39;00m \u001b[38;5;28mself\u001b[39m\u001b[38;5;241m.\u001b[39m_compiled_call_impl(\u001b[38;5;241m*\u001b[39margs, \u001b[38;5;241m*\u001b[39m\u001b[38;5;241m*\u001b[39mkwargs)  \u001b[38;5;66;03m# type: ignore[misc]\u001b[39;00m\n\u001b[1;32m   1510\u001b[0m \u001b[38;5;28;01melse\u001b[39;00m:\n\u001b[0;32m-> 1511\u001b[0m     \u001b[38;5;28;01mreturn\u001b[39;00m \u001b[38;5;28;43mself\u001b[39;49m\u001b[38;5;241;43m.\u001b[39;49m\u001b[43m_call_impl\u001b[49m\u001b[43m(\u001b[49m\u001b[38;5;241;43m*\u001b[39;49m\u001b[43margs\u001b[49m\u001b[43m,\u001b[49m\u001b[43m \u001b[49m\u001b[38;5;241;43m*\u001b[39;49m\u001b[38;5;241;43m*\u001b[39;49m\u001b[43mkwargs\u001b[49m\u001b[43m)\u001b[49m\n",
      "File \u001b[0;32m~/miniconda3/envs/gen/lib/python3.8/site-packages/torch/nn/modules/module.py:1520\u001b[0m, in \u001b[0;36mModule._call_impl\u001b[0;34m(self, *args, **kwargs)\u001b[0m\n\u001b[1;32m   1515\u001b[0m \u001b[38;5;66;03m# If we don't have any hooks, we want to skip the rest of the logic in\u001b[39;00m\n\u001b[1;32m   1516\u001b[0m \u001b[38;5;66;03m# this function, and just call forward.\u001b[39;00m\n\u001b[1;32m   1517\u001b[0m \u001b[38;5;28;01mif\u001b[39;00m \u001b[38;5;129;01mnot\u001b[39;00m (\u001b[38;5;28mself\u001b[39m\u001b[38;5;241m.\u001b[39m_backward_hooks \u001b[38;5;129;01mor\u001b[39;00m \u001b[38;5;28mself\u001b[39m\u001b[38;5;241m.\u001b[39m_backward_pre_hooks \u001b[38;5;129;01mor\u001b[39;00m \u001b[38;5;28mself\u001b[39m\u001b[38;5;241m.\u001b[39m_forward_hooks \u001b[38;5;129;01mor\u001b[39;00m \u001b[38;5;28mself\u001b[39m\u001b[38;5;241m.\u001b[39m_forward_pre_hooks\n\u001b[1;32m   1518\u001b[0m         \u001b[38;5;129;01mor\u001b[39;00m _global_backward_pre_hooks \u001b[38;5;129;01mor\u001b[39;00m _global_backward_hooks\n\u001b[1;32m   1519\u001b[0m         \u001b[38;5;129;01mor\u001b[39;00m _global_forward_hooks \u001b[38;5;129;01mor\u001b[39;00m _global_forward_pre_hooks):\n\u001b[0;32m-> 1520\u001b[0m     \u001b[38;5;28;01mreturn\u001b[39;00m \u001b[43mforward_call\u001b[49m\u001b[43m(\u001b[49m\u001b[38;5;241;43m*\u001b[39;49m\u001b[43margs\u001b[49m\u001b[43m,\u001b[49m\u001b[43m \u001b[49m\u001b[38;5;241;43m*\u001b[39;49m\u001b[38;5;241;43m*\u001b[39;49m\u001b[43mkwargs\u001b[49m\u001b[43m)\u001b[49m\n\u001b[1;32m   1522\u001b[0m \u001b[38;5;28;01mtry\u001b[39;00m:\n\u001b[1;32m   1523\u001b[0m     result \u001b[38;5;241m=\u001b[39m \u001b[38;5;28;01mNone\u001b[39;00m\n",
      "File \u001b[0;32m~/miniconda3/envs/gen/lib/python3.8/site-packages/torch/nn/modules/container.py:217\u001b[0m, in \u001b[0;36mSequential.forward\u001b[0;34m(self, input)\u001b[0m\n\u001b[1;32m    215\u001b[0m \u001b[38;5;28;01mdef\u001b[39;00m \u001b[38;5;21mforward\u001b[39m(\u001b[38;5;28mself\u001b[39m, \u001b[38;5;28minput\u001b[39m):\n\u001b[1;32m    216\u001b[0m     \u001b[38;5;28;01mfor\u001b[39;00m module \u001b[38;5;129;01min\u001b[39;00m \u001b[38;5;28mself\u001b[39m:\n\u001b[0;32m--> 217\u001b[0m         \u001b[38;5;28minput\u001b[39m \u001b[38;5;241m=\u001b[39m \u001b[43mmodule\u001b[49m\u001b[43m(\u001b[49m\u001b[38;5;28;43minput\u001b[39;49m\u001b[43m)\u001b[49m\n\u001b[1;32m    218\u001b[0m     \u001b[38;5;28;01mreturn\u001b[39;00m \u001b[38;5;28minput\u001b[39m\n",
      "File \u001b[0;32m~/miniconda3/envs/gen/lib/python3.8/site-packages/torch/nn/modules/module.py:1511\u001b[0m, in \u001b[0;36mModule._wrapped_call_impl\u001b[0;34m(self, *args, **kwargs)\u001b[0m\n\u001b[1;32m   1509\u001b[0m     \u001b[38;5;28;01mreturn\u001b[39;00m \u001b[38;5;28mself\u001b[39m\u001b[38;5;241m.\u001b[39m_compiled_call_impl(\u001b[38;5;241m*\u001b[39margs, \u001b[38;5;241m*\u001b[39m\u001b[38;5;241m*\u001b[39mkwargs)  \u001b[38;5;66;03m# type: ignore[misc]\u001b[39;00m\n\u001b[1;32m   1510\u001b[0m \u001b[38;5;28;01melse\u001b[39;00m:\n\u001b[0;32m-> 1511\u001b[0m     \u001b[38;5;28;01mreturn\u001b[39;00m \u001b[38;5;28;43mself\u001b[39;49m\u001b[38;5;241;43m.\u001b[39;49m\u001b[43m_call_impl\u001b[49m\u001b[43m(\u001b[49m\u001b[38;5;241;43m*\u001b[39;49m\u001b[43margs\u001b[49m\u001b[43m,\u001b[49m\u001b[43m \u001b[49m\u001b[38;5;241;43m*\u001b[39;49m\u001b[38;5;241;43m*\u001b[39;49m\u001b[43mkwargs\u001b[49m\u001b[43m)\u001b[49m\n",
      "File \u001b[0;32m~/miniconda3/envs/gen/lib/python3.8/site-packages/torch/nn/modules/module.py:1520\u001b[0m, in \u001b[0;36mModule._call_impl\u001b[0;34m(self, *args, **kwargs)\u001b[0m\n\u001b[1;32m   1515\u001b[0m \u001b[38;5;66;03m# If we don't have any hooks, we want to skip the rest of the logic in\u001b[39;00m\n\u001b[1;32m   1516\u001b[0m \u001b[38;5;66;03m# this function, and just call forward.\u001b[39;00m\n\u001b[1;32m   1517\u001b[0m \u001b[38;5;28;01mif\u001b[39;00m \u001b[38;5;129;01mnot\u001b[39;00m (\u001b[38;5;28mself\u001b[39m\u001b[38;5;241m.\u001b[39m_backward_hooks \u001b[38;5;129;01mor\u001b[39;00m \u001b[38;5;28mself\u001b[39m\u001b[38;5;241m.\u001b[39m_backward_pre_hooks \u001b[38;5;129;01mor\u001b[39;00m \u001b[38;5;28mself\u001b[39m\u001b[38;5;241m.\u001b[39m_forward_hooks \u001b[38;5;129;01mor\u001b[39;00m \u001b[38;5;28mself\u001b[39m\u001b[38;5;241m.\u001b[39m_forward_pre_hooks\n\u001b[1;32m   1518\u001b[0m         \u001b[38;5;129;01mor\u001b[39;00m _global_backward_pre_hooks \u001b[38;5;129;01mor\u001b[39;00m _global_backward_hooks\n\u001b[1;32m   1519\u001b[0m         \u001b[38;5;129;01mor\u001b[39;00m _global_forward_hooks \u001b[38;5;129;01mor\u001b[39;00m _global_forward_pre_hooks):\n\u001b[0;32m-> 1520\u001b[0m     \u001b[38;5;28;01mreturn\u001b[39;00m \u001b[43mforward_call\u001b[49m\u001b[43m(\u001b[49m\u001b[38;5;241;43m*\u001b[39;49m\u001b[43margs\u001b[49m\u001b[43m,\u001b[49m\u001b[43m \u001b[49m\u001b[38;5;241;43m*\u001b[39;49m\u001b[38;5;241;43m*\u001b[39;49m\u001b[43mkwargs\u001b[49m\u001b[43m)\u001b[49m\n\u001b[1;32m   1522\u001b[0m \u001b[38;5;28;01mtry\u001b[39;00m:\n\u001b[1;32m   1523\u001b[0m     result \u001b[38;5;241m=\u001b[39m \u001b[38;5;28;01mNone\u001b[39;00m\n",
      "File \u001b[0;32m~/miniconda3/envs/gen/lib/python3.8/site-packages/torch/nn/modules/pooling.py:164\u001b[0m, in \u001b[0;36mMaxPool2d.forward\u001b[0;34m(self, input)\u001b[0m\n\u001b[1;32m    163\u001b[0m \u001b[38;5;28;01mdef\u001b[39;00m \u001b[38;5;21mforward\u001b[39m(\u001b[38;5;28mself\u001b[39m, \u001b[38;5;28minput\u001b[39m: Tensor):\n\u001b[0;32m--> 164\u001b[0m     \u001b[38;5;28;01mreturn\u001b[39;00m \u001b[43mF\u001b[49m\u001b[38;5;241;43m.\u001b[39;49m\u001b[43mmax_pool2d\u001b[49m\u001b[43m(\u001b[49m\u001b[38;5;28;43minput\u001b[39;49m\u001b[43m,\u001b[49m\u001b[43m \u001b[49m\u001b[38;5;28;43mself\u001b[39;49m\u001b[38;5;241;43m.\u001b[39;49m\u001b[43mkernel_size\u001b[49m\u001b[43m,\u001b[49m\u001b[43m \u001b[49m\u001b[38;5;28;43mself\u001b[39;49m\u001b[38;5;241;43m.\u001b[39;49m\u001b[43mstride\u001b[49m\u001b[43m,\u001b[49m\n\u001b[1;32m    165\u001b[0m \u001b[43m                        \u001b[49m\u001b[38;5;28;43mself\u001b[39;49m\u001b[38;5;241;43m.\u001b[39;49m\u001b[43mpadding\u001b[49m\u001b[43m,\u001b[49m\u001b[43m \u001b[49m\u001b[38;5;28;43mself\u001b[39;49m\u001b[38;5;241;43m.\u001b[39;49m\u001b[43mdilation\u001b[49m\u001b[43m,\u001b[49m\u001b[43m \u001b[49m\u001b[43mceil_mode\u001b[49m\u001b[38;5;241;43m=\u001b[39;49m\u001b[38;5;28;43mself\u001b[39;49m\u001b[38;5;241;43m.\u001b[39;49m\u001b[43mceil_mode\u001b[49m\u001b[43m,\u001b[49m\n\u001b[1;32m    166\u001b[0m \u001b[43m                        \u001b[49m\u001b[43mreturn_indices\u001b[49m\u001b[38;5;241;43m=\u001b[39;49m\u001b[38;5;28;43mself\u001b[39;49m\u001b[38;5;241;43m.\u001b[39;49m\u001b[43mreturn_indices\u001b[49m\u001b[43m)\u001b[49m\n",
      "File \u001b[0;32m~/miniconda3/envs/gen/lib/python3.8/site-packages/torch/_jit_internal.py:499\u001b[0m, in \u001b[0;36mboolean_dispatch.<locals>.fn\u001b[0;34m(*args, **kwargs)\u001b[0m\n\u001b[1;32m    497\u001b[0m     \u001b[38;5;28;01mreturn\u001b[39;00m if_true(\u001b[38;5;241m*\u001b[39margs, \u001b[38;5;241m*\u001b[39m\u001b[38;5;241m*\u001b[39mkwargs)\n\u001b[1;32m    498\u001b[0m \u001b[38;5;28;01melse\u001b[39;00m:\n\u001b[0;32m--> 499\u001b[0m     \u001b[38;5;28;01mreturn\u001b[39;00m \u001b[43mif_false\u001b[49m\u001b[43m(\u001b[49m\u001b[38;5;241;43m*\u001b[39;49m\u001b[43margs\u001b[49m\u001b[43m,\u001b[49m\u001b[43m \u001b[49m\u001b[38;5;241;43m*\u001b[39;49m\u001b[38;5;241;43m*\u001b[39;49m\u001b[43mkwargs\u001b[49m\u001b[43m)\u001b[49m\n",
      "File \u001b[0;32m~/miniconda3/envs/gen/lib/python3.8/site-packages/torch/nn/functional.py:796\u001b[0m, in \u001b[0;36m_max_pool2d\u001b[0;34m(input, kernel_size, stride, padding, dilation, ceil_mode, return_indices)\u001b[0m\n\u001b[1;32m    794\u001b[0m \u001b[38;5;28;01mif\u001b[39;00m stride \u001b[38;5;129;01mis\u001b[39;00m \u001b[38;5;28;01mNone\u001b[39;00m:\n\u001b[1;32m    795\u001b[0m     stride \u001b[38;5;241m=\u001b[39m torch\u001b[38;5;241m.\u001b[39mjit\u001b[38;5;241m.\u001b[39mannotate(List[\u001b[38;5;28mint\u001b[39m], [])\n\u001b[0;32m--> 796\u001b[0m \u001b[38;5;28;01mreturn\u001b[39;00m \u001b[43mtorch\u001b[49m\u001b[38;5;241;43m.\u001b[39;49m\u001b[43mmax_pool2d\u001b[49m\u001b[43m(\u001b[49m\u001b[38;5;28;43minput\u001b[39;49m\u001b[43m,\u001b[49m\u001b[43m \u001b[49m\u001b[43mkernel_size\u001b[49m\u001b[43m,\u001b[49m\u001b[43m \u001b[49m\u001b[43mstride\u001b[49m\u001b[43m,\u001b[49m\u001b[43m \u001b[49m\u001b[43mpadding\u001b[49m\u001b[43m,\u001b[49m\u001b[43m \u001b[49m\u001b[43mdilation\u001b[49m\u001b[43m,\u001b[49m\u001b[43m \u001b[49m\u001b[43mceil_mode\u001b[49m\u001b[43m)\u001b[49m\n",
      "\u001b[0;31mKeyboardInterrupt\u001b[0m: "
     ]
    }
   ],
   "source": [
    "siamese_net.eval()  # Set the model to evaluation mode\n",
    "predictions = []\n",
    "\n",
    "distX = []\n",
    "\n",
    "threshold = 0.3\n",
    "\n",
    "with torch.no_grad():\n",
    "    for test_img,_, _ in tqdm(test_loader):\n",
    "        distances = []\n",
    "        for idx, (support_img, _, _) in enumerate(train_loader):\n",
    "            output1, output2 = siamese_net(test_img.to(device), support_img.to(device))\n",
    "\n",
    "            # print(output1.shape,output2.shape)\n",
    "\n",
    "            euclidean_distance = nn.functional.pairwise_distance(output1, output2)\n",
    "            # print(euclidean_distance)\n",
    "            distances.append((euclidean_distance.item(), idx))  # Store distance and support image index\n",
    "        \n",
    "        # Find the index of the support image with the minimum distance\n",
    "        min_distance, min_index = min(distances)\n",
    "\n",
    "        distX.append(min_distance)\n",
    "\n",
    "        predicted_label = train_dataset[min_index][1]  # Get the label of the nearest support image\n",
    "        prediction = 1 if min_distance < threshold else 0\n",
    "        predictions.append((prediction, predicted_label))\n",
    "\n",
    "# Now you have the predictions for the test dataset along with the predicted labels\n",
    "print(predictions)\n"
   ]
  },
  {
   "cell_type": "code",
   "execution_count": 65,
   "metadata": {},
   "outputs": [
    {
     "name": "stdout",
     "output_type": "stream",
     "text": [
      "Epoch 1, Loss: 0.0004\n",
      "Epoch 2, Loss: 0.0001\n",
      "Epoch 3, Loss: 0.0000\n",
      "Epoch 4, Loss: 0.0000\n",
      "Epoch 5, Loss: 0.0000\n",
      "Epoch 6, Loss: 0.0000\n",
      "Epoch 7, Loss: 0.0000\n",
      "Epoch 8, Loss: 0.0000\n",
      "Epoch 9, Loss: 0.0000\n",
      "Epoch 10, Loss: 0.0000\n",
      "Epoch 11, Loss: 0.0000\n",
      "Epoch 12, Loss: 0.0000\n",
      "Epoch 13, Loss: 0.0000\n",
      "Epoch 14, Loss: 0.0000\n",
      "Epoch 15, Loss: 0.0000\n",
      "Epoch 16, Loss: 0.0000\n",
      "Epoch 17, Loss: 0.0000\n",
      "Epoch 18, Loss: 0.0000\n",
      "Epoch 19, Loss: 0.0000\n",
      "Epoch 20, Loss: 0.0000\n",
      "Training finished.\n"
     ]
    }
   ],
   "source": [
    "import torch\n",
    "import torch.nn as nn\n",
    "import torch.optim as optim\n",
    "import torchvision\n",
    "import torchvision.transforms as transforms\n",
    "from torch.utils.data import DataLoader, Dataset\n",
    "import numpy as np\n",
    "\n",
    "# Check if GPU is available and set device accordingly\n",
    "device = torch.device(\"cuda\" if torch.cuda.is_available() else \"cpu\")\n",
    "\n",
    "# Define the Siamese network architecture\n",
    "class SiameseNetwork(nn.Module):\n",
    "    def __init__(self):\n",
    "        super(SiameseNetwork, self).__init__()\n",
    "        self.cnn = nn.Sequential(\n",
    "            nn.Conv2d(1, 64, kernel_size=10),\n",
    "            nn.ReLU(inplace=True),\n",
    "            # nn.MaxPool2d(2),\n",
    "            nn.Conv2d(64, 128, kernel_size=7),\n",
    "            nn.ReLU(inplace=True),\n",
    "            # nn.MaxPool2d(2),\n",
    "            nn.Conv2d(128, 128, kernel_size=4),\n",
    "            nn.ReLU(inplace=True),\n",
    "            # nn.MaxPool2d(2),\n",
    "            nn.Conv2d(128, 256, kernel_size=4),\n",
    "            nn.ReLU(inplace=True),\n",
    "        )\n",
    "\n",
    "        self.gap = GlobalAvgPool2d()\n",
    "\n",
    "        self.fc = nn.Sequential(\n",
    "            nn.Linear(256,512),\n",
    "            nn.Sigmoid()\n",
    "        )\n",
    "    \n",
    "    def forward_one(self, x):\n",
    "        output = self.cnn(x)\n",
    "        output = self.gap(output)\n",
    "        output = output.view(output.size()[0], -1)\n",
    "        output = self.fc(output)\n",
    "        return output\n",
    "    \n",
    "    def forward(self, input1, input2):\n",
    "        output1 = self.forward_one(input1)\n",
    "        output2 = self.forward_one(input2)\n",
    "        return output1, output2\n",
    "\n",
    "# Define Contrastive Loss\n",
    "class ContrastiveLoss(nn.Module):\n",
    "    def __init__(self, margin=2.0):\n",
    "        super(ContrastiveLoss, self).__init__()\n",
    "        self.margin = margin\n",
    "\n",
    "    def forward(self, output1, output2, label):\n",
    "        euclidean_distance = nn.functional.pairwise_distance(output1, output2)\n",
    "        loss_contrastive = torch.mean((1-label) * torch.pow(euclidean_distance, 2) +\n",
    "                                      (label) * torch.pow(torch.clamp(self.margin - euclidean_distance, min=0.0), 2))\n",
    "        return loss_contrastive\n",
    "\n",
    "# Custom dataset for MNIST\n",
    "class SiameseMNIST(Dataset):\n",
    "    def __init__(self, mnist_dataset):\n",
    "        self.mnist_dataset = mnist_dataset\n",
    "        self.transform = transforms.Compose([\n",
    "            transforms.Resize((28, 28)),\n",
    "            # transforms.ToTensor()\n",
    "        ])\n",
    "        self.class_indices = self._create_class_indices()\n",
    "\n",
    "    def _create_class_indices(self):\n",
    "        class_indices = {}\n",
    "        for i in range(len(self.mnist_dataset)):\n",
    "            _, label = self.mnist_dataset[i]\n",
    "            if label not in class_indices:\n",
    "                class_indices[label] = []\n",
    "            class_indices[label].append(i)\n",
    "        return class_indices\n",
    "\n",
    "    def __getitem__(self, index):\n",
    "        label1 = index // 5\n",
    "        label2 = np.random.choice(list(range(10)))\n",
    "        while label2 == label1:\n",
    "            label2 = np.random.choice(list(range(10)))\n",
    "        img1_index = np.random.choice(self.class_indices[label1], 1)[0]\n",
    "        img2_index = np.random.choice(self.class_indices[label2], 1)[0]\n",
    "        img1, _ = self.mnist_dataset[img1_index]\n",
    "        img2, _ = self.mnist_dataset[img2_index]\n",
    "        label = 1 if label1 == label2 else 0\n",
    "        img1 = self.transform(img1)\n",
    "        img2 = self.transform(img2)\n",
    "        return img1.to(device), img2.to(device), torch.tensor(label, dtype=torch.float32).to(device)\n",
    "\n",
    "    def __len__(self):\n",
    "        return 10 * 5\n",
    "\n",
    "# Load MNIST dataset\n",
    "mnist_dataset = torchvision.datasets.MNIST(root='./data', train=True, transform=transforms.ToTensor(), download=True)\n",
    "\n",
    "# Initialize Siamese network, loss function, and optimizer\n",
    "siamese_net = SiameseNetwork().to(device)\n",
    "criterion = ContrastiveLoss()\n",
    "optimizer = optim.Adam(siamese_net.parameters(), lr=0.0005)\n",
    "\n",
    "# Train the Siamese network\n",
    "num_epochs = 20\n",
    "batch_size = 128\n",
    "train_loader = DataLoader(SiameseMNIST(mnist_dataset), batch_size=batch_size, shuffle=True)\n",
    "\n",
    "for epoch in range(num_epochs):\n",
    "    total_loss = 0.0\n",
    "    for i, (img1, img2, label) in enumerate(train_loader):\n",
    "        optimizer.zero_grad()\n",
    "        output1, output2 = siamese_net(img1, img2)\n",
    "        loss = criterion(output1, output2, label)\n",
    "        loss.backward()\n",
    "        optimizer.step()\n",
    "        total_loss += loss.item()\n",
    "    print(f\"Epoch {epoch+1}, Loss: {total_loss/len(train_loader):.4f}\")\n",
    "\n",
    "print(\"Training finished.\")\n"
   ]
  },
  {
   "cell_type": "code",
   "execution_count": 66,
   "metadata": {},
   "outputs": [],
   "source": [
    "from sklearn.metrics.pairwise import euclidean_distances\n"
   ]
  },
  {
   "cell_type": "code",
   "execution_count": 68,
   "metadata": {},
   "outputs": [
    {
     "name": "stdout",
     "output_type": "stream",
     "text": [
      "Accuracy: 0.0154\n"
     ]
    }
   ],
   "source": [
    "# siamese_net.load_state_dict(torch.load(\"siamese_model.pth\"))\n",
    "siamese_net.eval()\n",
    "\n",
    "# Load query dataset\n",
    "query_dataset = torchvision.datasets.MNIST(root='./data', train=False, transform=transforms.ToTensor(), download=True)\n",
    "query_loader = DataLoader(query_dataset, batch_size=1, shuffle=False)\n",
    "\n",
    "# Get embeddings for query images\n",
    "query_embeddings = []\n",
    "query_labels = []\n",
    "for img, label in query_loader:\n",
    "    img = img.to(device)\n",
    "    with torch.no_grad():\n",
    "        output = siamese_net.forward_one(img)\n",
    "    query_embeddings.append(output.cpu().numpy().flatten())\n",
    "    query_labels.append(label.item())\n",
    "\n",
    "# Load training dataset\n",
    "train_dataset = SiameseMNIST(mnist_dataset)\n",
    "train_loader = DataLoader(train_dataset, batch_size=1, shuffle=False)\n",
    "\n",
    "# Get embeddings for training images\n",
    "train_embeddings = []\n",
    "train_labels = []\n",
    "for img1, _, label in train_loader:\n",
    "    img1 = img1.to(device)\n",
    "    with torch.no_grad():\n",
    "        output = siamese_net.forward_one(img1)\n",
    "    train_embeddings.append(output.cpu().numpy().flatten())\n",
    "    train_labels.append(label.item())\n",
    "\n",
    "# Convert lists to numpy arrays\n",
    "query_embeddings = np.array(query_embeddings)\n",
    "train_embeddings = np.array(train_embeddings)\n",
    "\n",
    "# Calculate pairwise distances between query and training embeddings\n",
    "distances = euclidean_distances(query_embeddings, train_embeddings)\n",
    "\n",
    "# Predict labels based on nearest neighbors\n",
    "predicted_labels = np.argmin(distances, axis=1)\n",
    "\n",
    "# Calculate accuracy\n",
    "accuracy = np.mean(np.array(predicted_labels) == np.array(query_labels))\n",
    "print(f\"Accuracy: {accuracy}\")\n"
   ]
  },
  {
   "cell_type": "code",
   "execution_count": null,
   "metadata": {},
   "outputs": [],
   "source": []
  }
 ],
 "metadata": {
  "kernelspec": {
   "display_name": "ivp",
   "language": "python",
   "name": "python3"
  },
  "language_info": {
   "codemirror_mode": {
    "name": "ipython",
    "version": 3
   },
   "file_extension": ".py",
   "mimetype": "text/x-python",
   "name": "python",
   "nbconvert_exporter": "python",
   "pygments_lexer": "ipython3",
   "version": "3.8.19"
  }
 },
 "nbformat": 4,
 "nbformat_minor": 2
}
