{
 "cells": [
  {
   "cell_type": "code",
   "execution_count": 3,
   "metadata": {},
   "outputs": [],
   "source": [
    "import os\n",
    "import cv2\n",
    "import numpy as np\n",
    "from skimage.metrics import structural_similarity as compare_ssim\n",
    "import torch\n",
    "import torchvision\n",
    "import torchvision.transforms as transforms\n",
    "import matplotlib.pyplot as plt\n",
    "\n",
    "# Define the directory to save the resized and compressed images\n",
    "output_dir = \"output_directory\"\n",
    "\n",
    "# Create the output directory if it doesn't exist\n",
    "if not os.path.exists(output_dir):\n",
    "    os.makedirs(output_dir)\n",
    "\n",
    "# Function to resize an image to 128x128 pixels\n",
    "def resize_image(img):\n",
    "    return cv2.resize(img, (128, 128))\n",
    "\n",
    "# Function to calculate SSIM and MSE\n",
    "def calculate_metrics(original_img, compressed_img):\n",
    "    # Calculate SSIM\n",
    "    ssim = compare_ssim(original_img, compressed_img, multichannel=True, data_range=original_img.max() - original_img.min())\n",
    "\n",
    "    # Calculate MSE\n",
    "    mse = np.mean((original_img - compressed_img) ** 2)\n",
    "\n",
    "    return ssim, mse\n",
    "\n",
    "# Load FashionMNIST dataset\n",
    "transform = transforms.Compose([\n",
    "    # transforms.ToPILImage(),\n",
    "    transforms.Resize((28, 28)),\n",
    "    transforms.ToTensor()\n",
    "])\n",
    "fashion_mnist_dataset = torchvision.datasets.FashionMNIST(root='./data', train=True, download=True, transform=transform)\n",
    "\n",
    "# Lists to store SSIM, MSE, and compression ratio values for each image\n",
    "ssim_values = []\n",
    "mse_values = []\n",
    "compression_ratios = []\n"
   ]
  },
  {
   "cell_type": "code",
   "execution_count": 11,
   "metadata": {},
   "outputs": [
    {
     "name": "stdout",
     "output_type": "stream",
     "text": [
      "(128, 128)\n"
     ]
    },
    {
     "ename": "AttributeError",
     "evalue": "'function' object has no attribute 'max'",
     "output_type": "error",
     "traceback": [
      "\u001b[0;31m---------------------------------------------------------------------------\u001b[0m",
      "\u001b[0;31mAttributeError\u001b[0m                            Traceback (most recent call last)",
      "Cell \u001b[0;32mIn[11], line 21\u001b[0m\n\u001b[1;32m     17\u001b[0m \u001b[38;5;28mprint\u001b[39m(resized_img\u001b[38;5;241m.\u001b[39mshape)\n\u001b[1;32m     18\u001b[0m \u001b[38;5;66;03m# compressed_gray = cv2.cvtColor(compressed_img, cv2.COLOR_BGR2GRAY)\u001b[39;00m\n\u001b[1;32m     19\u001b[0m \n\u001b[1;32m     20\u001b[0m \u001b[38;5;66;03m# Calculate SSIM and MSE\u001b[39;00m\n\u001b[0;32m---> 21\u001b[0m ssim, mse \u001b[38;5;241m=\u001b[39m \u001b[43mcalculate_metrics\u001b[49m\u001b[43m(\u001b[49m\u001b[43mresize_image\u001b[49m\u001b[43m,\u001b[49m\u001b[43m \u001b[49m\u001b[43mcompressed_img\u001b[49m\u001b[43m)\u001b[49m\n\u001b[1;32m     22\u001b[0m ssim_values\u001b[38;5;241m.\u001b[39mappend(ssim)\n\u001b[1;32m     23\u001b[0m mse_values\u001b[38;5;241m.\u001b[39mappend(mse)\n",
      "Cell \u001b[0;32mIn[3], line 24\u001b[0m, in \u001b[0;36mcalculate_metrics\u001b[0;34m(original_img, compressed_img)\u001b[0m\n\u001b[1;32m     22\u001b[0m \u001b[38;5;28;01mdef\u001b[39;00m \u001b[38;5;21mcalculate_metrics\u001b[39m(original_img, compressed_img):\n\u001b[1;32m     23\u001b[0m     \u001b[38;5;66;03m# Calculate SSIM\u001b[39;00m\n\u001b[0;32m---> 24\u001b[0m     ssim \u001b[38;5;241m=\u001b[39m compare_ssim(original_img, compressed_img, multichannel\u001b[38;5;241m=\u001b[39m\u001b[38;5;28;01mTrue\u001b[39;00m, data_range\u001b[38;5;241m=\u001b[39m\u001b[43moriginal_img\u001b[49m\u001b[38;5;241;43m.\u001b[39;49m\u001b[43mmax\u001b[49m() \u001b[38;5;241m-\u001b[39m original_img\u001b[38;5;241m.\u001b[39mmin())\n\u001b[1;32m     26\u001b[0m     \u001b[38;5;66;03m# Calculate MSE\u001b[39;00m\n\u001b[1;32m     27\u001b[0m     mse \u001b[38;5;241m=\u001b[39m np\u001b[38;5;241m.\u001b[39mmean((original_img \u001b[38;5;241m-\u001b[39m compressed_img) \u001b[38;5;241m*\u001b[39m\u001b[38;5;241m*\u001b[39m \u001b[38;5;241m2\u001b[39m)\n",
      "\u001b[0;31mAttributeError\u001b[0m: 'function' object has no attribute 'max'"
     ]
    }
   ],
   "source": [
    "\n",
    "# Loop through the dataset and compress each image\n",
    "for i, (image, _) in enumerate(fashion_mnist_dataset):\n",
    "    # Convert PyTorch tensor to NumPy array\n",
    "    original_img = np.transpose(image.numpy(), (1, 2, 0)) * 255  # Convert from (C, H, W) to (H, W, C) and unnormalize\n",
    "\n",
    "    # Resize and compress the original image\n",
    "    resized_img = resize_image(original_img)\n",
    "    \n",
    "    \n",
    "    encoded_img = cv2.imencode('.jpg', resized_img, [cv2.IMWRITE_JPEG_QUALITY, 90])[1]\n",
    "    compressed_img = cv2.imdecode(encoded_img, cv2.IMREAD_COLOR)\n",
    "\n",
    "    \n",
    "    \n",
    "    # Convert the resized and compressed image to grayscale for SSIM calculation\n",
    "    # original_gray = cv2.cvtColor(resized_img, cv2.COLOR_BGR2GRAY)\n",
    "    print(resized_img.shape)\n",
    "    # compressed_gray = cv2.cvtColor(compressed_img, cv2.COLOR_BGR2GRAY)\n",
    "    \n",
    "    # Calculate SSIM and MSE\n",
    "    ssim, mse = calculate_metrics(resize_image, compressed_img)\n",
    "    ssim_values.append(ssim)\n",
    "    mse_values.append(mse)\n",
    "\n",
    "    # Calculate compression ratio\n",
    "    original_size = original_img.nbytes\n",
    "    compressed_size = len(encoded_img)\n",
    "    compression_ratio = original_size / compressed_size\n",
    "    compression_ratios.append(compression_ratio)\n",
    "\n",
    "    # Save the compressed image\n",
    "    output_path = os.path.join(output_dir, f\"image_{i}.jpg\")\n",
    "    cv2.imwrite(output_path, compressed_img)\n",
    "\n",
    "# Plot SSIM values\n",
    "plt.figure(figsize=(10, 5))\n",
    "plt.plot(ssim_values, marker='o', linestyle='-', color='b')\n",
    "plt.title('SSIM Values after JPEG Compression and Resizing')\n",
    "plt.xlabel('Image Index')\n",
    "plt.ylabel('SSIM')\n",
    "plt.grid(True)\n",
    "plt.show()\n",
    "\n",
    "# Plot MSE values\n",
    "plt.figure(figsize=(10, 5))\n",
    "plt.plot(mse_values, marker='o', linestyle='-', color='r')\n",
    "plt.title('MSE Values after JPEG Compression and Resizing')\n",
    "plt.xlabel('Image Index')\n",
    "plt.ylabel('MSE')\n",
    "plt.grid(True)\n",
    "plt.show()\n",
    "\n",
    "# Plot compression ratio values\n",
    "plt.figure(figsize=(10, 5))\n",
    "plt.plot(compression_ratios, marker='o', linestyle='-', color='g')\n",
    "plt.title('Compression Ratio Values after JPEG Compression and Resizing')\n",
    "plt.xlabel('Image Index')\n",
    "plt.ylabel('Compression Ratio')\n",
    "plt.grid(True)\n",
    "plt.show()"
   ]
  },
  {
   "cell_type": "code",
   "execution_count": null,
   "metadata": {},
   "outputs": [],
   "source": []
  },
  {
   "cell_type": "code",
   "execution_count": null,
   "metadata": {},
   "outputs": [],
   "source": []
  }
 ],
 "metadata": {
  "kernelspec": {
   "display_name": "gen",
   "language": "python",
   "name": "python3"
  },
  "language_info": {
   "codemirror_mode": {
    "name": "ipython",
    "version": 3
   },
   "file_extension": ".py",
   "mimetype": "text/x-python",
   "name": "python",
   "nbconvert_exporter": "python",
   "pygments_lexer": "ipython3",
   "version": "3.8.19"
  }
 },
 "nbformat": 4,
 "nbformat_minor": 2
}
