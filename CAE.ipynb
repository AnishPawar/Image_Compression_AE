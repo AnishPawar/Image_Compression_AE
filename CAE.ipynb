{
 "cells": [
  {
   "cell_type": "code",
   "execution_count": 1,
   "metadata": {},
   "outputs": [],
   "source": [
    "#Import Libraries\n",
    "import torch\n",
    "import torchvision\n",
    "import torchvision.transforms as transforms\n",
    "import torch.nn.functional as F\n",
    "from torch.utils.data import DataLoader\n",
    "import torch.nn as nn"
   ]
  },
  {
   "cell_type": "code",
   "execution_count": 2,
   "metadata": {},
   "outputs": [],
   "source": [
    "# Datasets to train \n",
    "datasetNames = [\"CIFAR10\", \"MNIST\", \"FashionMNIST\",\"Moon_Craters\"] "
   ]
  },
  {
   "cell_type": "code",
   "execution_count": 4,
   "metadata": {},
   "outputs": [],
   "source": [
    "code = 1\n",
    "BATCH_SIZE=4"
   ]
  },
  {
   "cell_type": "code",
   "execution_count": 5,
   "metadata": {},
   "outputs": [
    {
     "name": "stdout",
     "output_type": "stream",
     "text": [
      "Files already downloaded and verified\n",
      "Files already downloaded and verified\n"
     ]
    }
   ],
   "source": [
    "# Define data transformations for different datasets\n",
    "\n",
    "if code ==1:\n",
    "    # For CIFAR-10 dataset\n",
    "    NUM_CHANNELS = 3\n",
    "\n",
    "    # Define transformations for CIFAR-10\n",
    "    transform = transforms.Compose(\n",
    "    \n",
    "    [\n",
    "     transforms.ToTensor(),\n",
    "     transforms.Normalize((0.5, 0.5, 0.5), (0.5, 0.5, 0.5)),\n",
    "     ])\n",
    "    \n",
    "\n",
    "\n",
    "    trainset = torchvision.datasets.CIFAR10(root='./data', train=True,\n",
    "                                            download=True, transform=transform)\n",
    "    trainloader = torch.utils.data.DataLoader(trainset, batch_size=BATCH_SIZE,\n",
    "                                            shuffle=True, num_workers=2)\n",
    "\n",
    "    testset = torchvision.datasets.CIFAR10(root='./data', train=False,\n",
    "                                        download=True, transform=transform)\n",
    "    testloader = torch.utils.data.DataLoader(testset, batch_size=BATCH_SIZE,\n",
    "                                            shuffle=False, num_workers=2)\n",
    "\n",
    "\n",
    "# For MNIST dataset\n",
    "if code ==2:\n",
    "\n",
    "    NUM_CHANNELS = 1\n",
    "\n",
    "    # Define transformations for MNIST\n",
    "    transform = transforms.Compose([\n",
    "    transforms.ToTensor(),\n",
    "    transforms.Resize((32,32)),\n",
    "        ])\n",
    "\n",
    "    trainset = torchvision.datasets.MNIST(root='./data', train=True, transform=transform, download=True)\n",
    "    trainloader = DataLoader(trainset, batch_size=BATCH_SIZE, shuffle=True)\n",
    "\n",
    "\n",
    "    testset = torchvision.datasets.MNIST(root='./data', train=False, transform=transform, download=True)\n",
    "    testloader = DataLoader(testset, batch_size=BATCH_SIZE, shuffle=True)\n",
    "\n",
    "# For Fashion MNIST dataset\n",
    "if code ==3:\n",
    "\n",
    "    NUM_CHANNELS = 1\n",
    "\n",
    "\n",
    "    transform = transforms.Compose([\n",
    "    transforms.ToTensor(),\n",
    "    transforms.Resize((32,32)),\n",
    "        ])\n",
    "\n",
    "    trainset = torchvision.datasets.FashionMNIST(root='./data', train=True, transform=transform, download=True)\n",
    "    trainloader = DataLoader(trainset, batch_size=BATCH_SIZE, shuffle=True)\n",
    "\n",
    "\n",
    "    testset = torchvision.datasets.FashionMNIST(root='./data', train=False, transform=transform, download=True)\n",
    "    testloader = DataLoader(testset, batch_size=BATCH_SIZE, shuffle=True)\n"
   ]
  },
  {
   "cell_type": "code",
   "execution_count": 6,
   "metadata": {},
   "outputs": [
    {
     "name": "stdout",
     "output_type": "stream",
     "text": [
      "(3, 36, 138)\n"
     ]
    },
    {
     "data": {
      "image/png": "[encoded data removed]",
      "text/plain": [
       "<Figure size 640x480 with 1 Axes>"
      ]
     },
     "metadata": {},
     "output_type": "display_data"
    }
   ],
   "source": [
    "import matplotlib.pyplot as plt\n",
    "import numpy as np\n",
    "\n",
    "# functions to show an imageindices\n",
    "\n",
    "def imshow(img):\n",
    "    if code==1:\n",
    "        img = img / 2 + 0.5     # unnormalize\n",
    "    npimg = img.numpy()\n",
    "    print(npimg.shape)\n",
    "    plt.imshow(np.transpose(npimg, (1, 2, 0)))\n",
    "    plt.show()\n",
    "\n",
    "\n",
    "# get some random training images\n",
    "dataiter = iter(trainloader)\n",
    "images, labels = next(dataiter)\n",
    "\n",
    "# show images\n",
    "imshow(torchvision.utils.make_grid(images))\n",
    "# print labels\n",
    "# print(' '.join(f'{classes[labels[j]]:5s}' for j in range(batch_size)))"
   ]
  },
  {
   "cell_type": "code",
   "execution_count": 7,
   "metadata": {},
   "outputs": [],
   "source": [
    "# Define a module for global average pooling\n",
    "class GlobalAvgPool2d(nn.Module):\n",
    "    def __init__(self):\n",
    "        # Constructor method for initializing the module\n",
    "        super(GlobalAvgPool2d, self).__init__()\n",
    "\n",
    "    def forward(self, x):\n",
    "        return nn.functional.adaptive_avg_pool2d(x, (1, 1)).view(x.size(0), -1)"
   ]
  },
  {
   "cell_type": "code",
   "execution_count": 8,
   "metadata": {},
   "outputs": [],
   "source": [
    "# Define a  module for 2D unpooling\n",
    "class MyUnpool2d(nn.Module):\n",
    "    def __init__(self, scale_factor):\n",
    "        super(MyUnpool2d, self).__init__()\n",
    "        self.scale_factor = scale_factor\n",
    "\n",
    "    def forward(self, x):\n",
    "        return nn.functional.interpolate(x, scale_factor=self.scale_factor, mode='nearest')"
   ]
  },
  {
   "cell_type": "code",
   "execution_count": 9,
   "metadata": {},
   "outputs": [],
   "source": [
    "class Autoencoder(nn.Module):\n",
    "    def __init__(self):\n",
    "        super(Autoencoder, self).__init__()\n",
    "\n",
    "        # Encoder layers\n",
    "        self.conv1 = nn.Conv2d(NUM_CHANNELS, 64, 5)\n",
    "        self.pool = nn.MaxPool2d(2, stride=2, return_indices=True)                                    \n",
    "        self.conv2 = nn.Conv2d(64, 128, 5)\n",
    "\n",
    "        # Fully connected layers for encoding\n",
    "        self.fcEnc = nn.Sequential(\n",
    "                                    nn.Linear(128 * 10 * 10, 120),\n",
    "                                    nn.ReLU(True),\n",
    "                                    nn.Linear(120, 84),\n",
    "                                    nn.ReLU(True),\n",
    "                                    nn.Linear(84, 40))\n",
    "        \n",
    "        # Decoder layers\n",
    "        self.unpool = nn.MaxUnpool2d(2, stride=2, padding=0)\n",
    "\n",
    "        \n",
    "\n",
    "        self.fcDec = nn.Sequential(\n",
    "                                    nn.Linear(40, 84),\n",
    "                                    nn.ReLU(True),\n",
    "                                    nn.Linear(84, 120),\n",
    "                                    nn.ReLU(True),\n",
    "                                    nn.Linear(120, 128 * 10 * 10),\n",
    "                                    nn.ReLU(True),\n",
    "                                    nn.Unflatten(1, (128, 10, 10))\n",
    "\n",
    "        )\n",
    "\n",
    "        # Transposed convolutional layer 1\n",
    "        self.convt1 = nn.ConvTranspose2d(128, 64, 5)\n",
    "        self.unpool = nn.MaxUnpool2d(2, 2)# Transposed convolutional layer 2\n",
    "                        \n",
    "        \n",
    "                                    \n",
    "        self.convt2 =  nn.ConvTranspose2d(64, NUM_CHANNELS, 5)\n",
    "\n",
    "\n",
    "\n",
    "\n",
    "    def forward(self, x):\n",
    "        # Encoder\n",
    "        x = self.conv1(x)\n",
    "        x,indices = self.pool(x)\n",
    "        x = self.conv2(x)\n",
    "        x = torch.flatten(x, 1)\n",
    "        x = self.fcEnc(x)\n",
    "        # Decoder\n",
    "        x = self.fcDec(x)\n",
    "        # print(x.shape)\n",
    "\n",
    "        x = F.relu(self.convt1(x))\n",
    "        x = self.unpool(x,indices)\n",
    "        x = F.sigmoid( self.convt2(x))\n",
    "        \n",
    "        # print(x.shape)\n",
    "        return x\n",
    "\n",
    "\n",
    "    def compress(self,x):\n",
    "        x = self.conv1(x)\n",
    "        x,indices = self.pool(x)\n",
    "        x = self.conv2(x)\n",
    "        x = torch.flatten(x, 1)\n",
    "        x = self.fcEnc(x)\n",
    "        return x , indices\n",
    "    \n",
    "    def decompress(self,compressed,indices):\n",
    "        # Decoding from compressed representation\n",
    "        x = self.fcDec(compressed)\n",
    "\n",
    "        x = F.relu(self.convt1(x))\n",
    "        x = self.unpool(x,indices)\n",
    "        x = F.sigmoid( self.convt2(x))\n",
    "        \n",
    "        # print(x.shape)\n",
    "        return x\n",
    "# Instantiate the autoencoder network\n",
    "\n",
    "net = Autoencoder()\n"
   ]
  },
  {
   "cell_type": "code",
   "execution_count": 10,
   "metadata": {},
   "outputs": [],
   "source": [
    "# import torch.optim as optim\n",
    "\n",
    "# criterion = nn.MSELoss()\n",
    "# optimizer = optim.Adam(net.parameters(), lr=0.001)"
   ]
  },
  {
   "cell_type": "code",
   "execution_count": 11,
   "metadata": {},
   "outputs": [],
   "source": [
    "device = torch.device('cuda:0' if torch.cuda.is_available() else 'cpu')"
   ]
  },
  {
   "cell_type": "code",
   "execution_count": 12,
   "metadata": {},
   "outputs": [
    {
     "data": {
      "text/plain": [
       "Autoencoder(\n",
       "  (conv1): Conv2d(3, 64, kernel_size=(5, 5), stride=(1, 1))\n",
       "  (pool): MaxPool2d(kernel_size=2, stride=2, padding=0, dilation=1, ceil_mode=False)\n",
       "  (conv2): Conv2d(64, 128, kernel_size=(5, 5), stride=(1, 1))\n",
       "  (fcEnc): Sequential(\n",
       "    (0): Linear(in_features=12800, out_features=120, bias=True)\n",
       "    (1): ReLU(inplace=True)\n",
       "    (2): Linear(in_features=120, out_features=84, bias=True)\n",
       "    (3): ReLU(inplace=True)\n",
       "    (4): Linear(in_features=84, out_features=40, bias=True)\n",
       "  )\n",
       "  (unpool): MaxUnpool2d(kernel_size=(2, 2), stride=(2, 2), padding=(0, 0))\n",
       "  (fcDec): Sequential(\n",
       "    (0): Linear(in_features=40, out_features=84, bias=True)\n",
       "    (1): ReLU(inplace=True)\n",
       "    (2): Linear(in_features=84, out_features=120, bias=True)\n",
       "    (3): ReLU(inplace=True)\n",
       "    (4): Linear(in_features=120, out_features=12800, bias=True)\n",
       "    (5): ReLU(inplace=True)\n",
       "    (6): Unflatten(dim=1, unflattened_size=(128, 10, 10))\n",
       "  )\n",
       "  (convt1): ConvTranspose2d(128, 64, kernel_size=(5, 5), stride=(1, 1))\n",
       "  (convt2): ConvTranspose2d(64, 3, kernel_size=(5, 5), stride=(1, 1))\n",
       ")"
      ]
     },
     "execution_count": 12,
     "metadata": {},
     "output_type": "execute_result"
    }
   ],
   "source": [
    "net.to(device)"
   ]
  },
  {
   "cell_type": "code",
   "execution_count": 13,
   "metadata": {},
   "outputs": [],
   "source": [
    "input_data = torch.randn(1, NUM_CHANNELS, 32, 32).to(device)  # Example input tensor of shape (batch_size, channels, height, width)\n",
    "output_data = net(input_data)  # Forward pass through the autoencoder\n",
    "# loss = F.mse_loss(output_data, input_data)  # Compute MSE loss between output and input\n",
    "# print(loss)"
   ]
  },
  {
   "cell_type": "code",
   "execution_count": 14,
   "metadata": {},
   "outputs": [
    {
     "data": {
      "text/plain": [
       "torch.Size([1, 3, 32, 32])"
      ]
     },
     "execution_count": 14,
     "metadata": {},
     "output_type": "execute_result"
    }
   ],
   "source": [
    "output_data.shape"
   ]
  },
  {
   "cell_type": "code",
   "execution_count": 15,
   "metadata": {},
   "outputs": [],
   "source": [
    "from tqdm import tqdm"
   ]
  },
  {
   "cell_type": "code",
   "execution_count": 16,
   "metadata": {},
   "outputs": [
    {
     "name": "stderr",
     "output_type": "stream",
     "text": [
      "1184it [00:03, 339.17it/s]\n"
     ]
    },
    {
     "ename": "KeyboardInterrupt",
     "evalue": "",
     "output_type": "error",
     "traceback": [
      "\u001b[0;31m---------------------------------------------------------------------------\u001b[0m",
      "\u001b[0;31mKeyboardInterrupt\u001b[0m                         Traceback (most recent call last)",
      "Cell \u001b[0;32mIn[16], line 24\u001b[0m\n\u001b[1;32m     21\u001b[0m optimizer\u001b[38;5;241m.\u001b[39mzero_grad()\n\u001b[1;32m     23\u001b[0m outputs \u001b[38;5;241m=\u001b[39m net(inputs\u001b[38;5;241m.\u001b[39mto(device))\n\u001b[0;32m---> 24\u001b[0m loss \u001b[38;5;241m=\u001b[39m criterion(outputs, inputs\u001b[38;5;241m.\u001b[39mto(device))\n\u001b[1;32m     25\u001b[0m loss\u001b[38;5;241m.\u001b[39mbackward()\n\u001b[1;32m     26\u001b[0m optimizer\u001b[38;5;241m.\u001b[39mstep()\n",
      "\u001b[0;31mKeyboardInterrupt\u001b[0m: "
     ]
    }
   ],
   "source": [
    "import torch.optim as optim\n",
    "import torch.nn as nn\n",
    "from tqdm import tqdm\n",
    "\n",
    "\n",
    "# Define the loss function (Mean Squared Error)\n",
    "\n",
    "criterion = nn.MSELoss()\n",
    "optimizer = optim.Adam(net.parameters(), lr=1e-4)\n",
    "\n",
    "\n",
    "# scheduler = optim.lr_scheduler.StepLR(optimizer, step_size=2, gamma=0.1)  \n",
    "\n",
    "for epoch in range(6):  # Train for 6 epochs\n",
    "\n",
    "    running_loss = 0.0\n",
    "    for i, data in tqdm(enumerate(trainloader, 0)):\n",
    "        # Get the inputs and labels from the data loader\n",
    "        inputs, labels = data\n",
    "\n",
    "        optimizer.zero_grad()\n",
    "        \n",
    "        outputs = net(inputs.to(device))\n",
    "        loss = criterion(outputs, inputs.to(device))\n",
    "        loss.backward()\n",
    "        optimizer.step()\n",
    "\n",
    "        \n",
    "        running_loss += loss.item()\n",
    "        # Print statistics every 2000 mini-batches\n",
    "        if i % 2000 == 1999:   \n",
    "            print(f'[{epoch + 1}, {i + 1:5d}] loss: {running_loss / 2000:.3f}')\n",
    "            running_loss = 0.0\n",
    "    \n",
    "    \n",
    "    # scheduler.step()\n",
    "\n",
    "print('Finished Training')\n"
   ]
  },
  {
   "cell_type": "markdown",
   "metadata": {},
   "source": [
    "## Saving the Model"
   ]
  },
  {
   "cell_type": "code",
   "execution_count": null,
   "metadata": {},
   "outputs": [],
   "source": [
    "from datetime import datetime\n",
    "now = datetime.now()"
   ]
  },
  {
   "cell_type": "code",
   "execution_count": null,
   "metadata": {},
   "outputs": [],
   "source": [
    "f'{now}'"
   ]
  },
  {
   "cell_type": "code",
   "execution_count": null,
   "metadata": {},
   "outputs": [],
   "source": [
    "root = 'models'"
   ]
  },
  {
   "cell_type": "code",
   "execution_count": null,
   "metadata": {},
   "outputs": [],
   "source": [
    "f'{loss.item():.4f}'"
   ]
  },
  {
   "cell_type": "code",
   "execution_count": null,
   "metadata": {},
   "outputs": [],
   "source": [
    "f'{root}/{datasetNames[code-1]}-{now}-{loss.item():.4f}.pth'"
   ]
  },
  {
   "cell_type": "code",
   "execution_count": null,
   "metadata": {},
   "outputs": [],
   "source": [
    "torch.save(net.state_dict(), f'{root}/{datasetNames[code-1]}-{now}-{loss.item():.4f}.pth')"
   ]
  },
  {
   "cell_type": "markdown",
   "metadata": {},
   "source": [
    "## Loading the saved model"
   ]
  },
  {
   "cell_type": "code",
   "execution_count": 19,
   "metadata": {},
   "outputs": [
    {
     "name": "stdout",
     "output_type": "stream",
     "text": [
      "Options Are: ['MNIST-2024-04-13 23:34:19.095483-0.0007.pth', 'MNIST-2024-04-12 22:36:39.511709-0.0010.pth', 'Moon_Craters-2024-04-13 02:48:53.422161-0.0060.pth', 'Moon_Craters-2024-04-13 02:19:45.432084-0.0063.pth', 'Moon_Craters-2024-04-13 01:32:40.360655-0.0253.pth', 'Moon_Craters-2024-04-13 18:56:05.024679-0.0009.pth', 'FashionMNIST-2024-04-12 22:44:18.962585-0.0025.pth', 'Moon_Craters-2024-04-13 05:02:58.809573-0.0026.pth', 'CIFAR10-2024-04-13 23:39:45.200790-0.1501.pth', 'CIFAR10-2024-04-12 23:05:46.035186-0.1568.pth', 'Moon_Craters-2024-04-13 01:45:10.732340-0.0453.pth', 'Moon_Craters-2024-04-13 01:36:45.303256-0.0250.pth', 'FashionMNIST-2024-04-13 22:51:17.457683-0.0037.pth', 'Moon_Craters-2024-04-13 21:32:40.449914-0.0031.pth', 'Moon_Craters-2024-04-13 02:49:20.415492-0.0105.pth', 'Moon_Craters-2024-04-13 02:06:39.657056-0.0080.pth', 'Moon_Craters-2024-04-13 02:21:16.453948-0.0061.pth']\n"
     ]
    }
   ],
   "source": [
    "import os\n",
    "\n",
    "print(f\"Options Are: {os.listdir('models')}\")"
   ]
  },
  {
   "cell_type": "code",
   "execution_count": 20,
   "metadata": {},
   "outputs": [
    {
     "data": {
      "text/plain": [
       "<All keys matched successfully>"
      ]
     },
     "execution_count": 20,
     "metadata": {},
     "output_type": "execute_result"
    }
   ],
   "source": [
    "net.load_state_dict(torch.load(f'models/CIFAR10-2024-04-13 23:39:45.200790-0.1501.pth'))"
   ]
  },
  {
   "cell_type": "code",
   "execution_count": 21,
   "metadata": {},
   "outputs": [
    {
     "name": "stdout",
     "output_type": "stream",
     "text": [
      "(3, 36, 138)\n"
     ]
    },
    {
     "data": {
      "image/png": "[encoded data removed]",
      "text/plain": [
       "<Figure size 640x480 with 1 Axes>"
      ]
     },
     "metadata": {},
     "output_type": "display_data"
    }
   ],
   "source": [
    "dataiter = iter(testloader)\n",
    "images, labels = next(dataiter)\n",
    "\n",
    "imshow(torchvision.utils.make_grid(images))\n"
   ]
  },
  {
   "cell_type": "code",
   "execution_count": 22,
   "metadata": {},
   "outputs": [
    {
     "data": {
      "text/plain": [
       "<matplotlib.image.AxesImage at 0x7fb2d097a1c0>"
      ]
     },
     "execution_count": 22,
     "metadata": {},
     "output_type": "execute_result"
    },
    {
     "data": {
      "image/png": "[encoded data removed]",
      "text/plain": [
       "<Figure size 640x480 with 1 Axes>"
      ]
     },
     "metadata": {},
     "output_type": "display_data"
    }
   ],
   "source": [
    "\n",
    "# Create an iterator from the test data loader\n",
    "\n",
    "dataiter = iter(testloader)\n",
    "# Retrieve a batch of images and their corresponding labels\n",
    "\n",
    "images, labels = next(dataiter)\n",
    "\n",
    "# Display the images in a grid\n",
    "\n",
    "outputs = net(images.to(device))\n",
    "\n",
    "plt.imshow(outputs[3].detach().cpu().permute(1,2,0))\n"
   ]
  },
  {
   "cell_type": "code",
   "execution_count": 23,
   "metadata": {},
   "outputs": [
    {
     "name": "stderr",
     "output_type": "stream",
     "text": [
      "Clipping input data to the valid range for imshow with RGB data ([0..1] for floats or [0..255] for integers).\n"
     ]
    },
    {
     "data": {
      "text/plain": [
       "<matplotlib.image.AxesImage at 0x7fb2d08dfa00>"
      ]
     },
     "execution_count": 23,
     "metadata": {},
     "output_type": "execute_result"
    },
    {
     "data": {
      "image/png": "[encoded data removed]",
      "text/plain": [
       "<Figure size 640x480 with 1 Axes>"
      ]
     },
     "metadata": {},
     "output_type": "display_data"
    }
   ],
   "source": [
    "plt.imshow(images[3].detach().cpu().permute(1,2,0))"
   ]
  },
  {
   "cell_type": "markdown",
   "metadata": {},
   "source": [
    "## Benchmarking on Test Dataset"
   ]
  },
  {
   "cell_type": "code",
   "execution_count": 24,
   "metadata": {},
   "outputs": [
    {
     "name": "stderr",
     "output_type": "stream",
     "text": [
      "2500it [00:01, 1633.57it/s]"
     ]
    },
    {
     "name": "stdout",
     "output_type": "stream",
     "text": [
      "Test Loss: 0.2165670096874237\n"
     ]
    },
    {
     "name": "stderr",
     "output_type": "stream",
     "text": [
      "\n"
     ]
    }
   ],
   "source": [
    "import torch.optim as optim\n",
    "import torch.nn as nn\n",
    "from tqdm import tqdm\n",
    "\n",
    "# Define the loss function (Mean Squared Error)\n",
    "\n",
    "criterion = nn.MSELoss()\n",
    "\n",
    "running_loss = 0.0\n",
    "\n",
    "# Iterate over the test data loader\n",
    "\n",
    "for i, data in tqdm(enumerate(testloader, 0)):\n",
    "    inputs, labels = data\n",
    "\n",
    "    outputs = net(inputs.to(device))\n",
    "    loss = criterion(outputs, inputs.to(device))\n",
    "\n",
    "# Print the test loss\n",
    "print(f'Test Loss: {loss.item()}')"
   ]
  },
  {
   "cell_type": "markdown",
   "metadata": {},
   "source": [
    "## SSIM"
   ]
  },
  {
   "cell_type": "code",
   "execution_count": 25,
   "metadata": {},
   "outputs": [
    {
     "name": "stderr",
     "output_type": "stream",
     "text": [
      "12500it [00:12, 978.68it/s] "
     ]
    },
    {
     "name": "stdout",
     "output_type": "stream",
     "text": [
      "Train Loss: 0.12454616278409958\n",
      "Mean MSSIM for Train data is: 0.2567739632328858\n"
     ]
    },
    {
     "name": "stderr",
     "output_type": "stream",
     "text": [
      "\n"
     ]
    }
   ],
   "source": [
    "import numpy as np\n",
    "from skimage.metrics import structural_similarity as compare_ssim\n",
    "\n",
    "# Define the loss function (Mean Squared Error)\n",
    "\n",
    "criterion = nn.MSELoss()\n",
    "\n",
    "# Initialize variables for tracking loss and MSSIM\n",
    "\n",
    "running_loss = 0.0\n",
    "\n",
    "tSSIM = 0\n",
    "\n",
    "# Iterate over the training data loader\n",
    "\n",
    "for i, data in tqdm(enumerate(trainloader, 0)):\n",
    "    inputs, labels = data\n",
    "\n",
    "    # Pass the inputs through the autoencoder model to get the outputs\n",
    "    outputs = net(inputs.to(device))\n",
    "\n",
    "    # Convert tensors to numpy arrays and rearrange dimensions for SSIM calculation\n",
    "    batchNumpyIP = inputs.permute((0,2,3,1)).detach().cpu().numpy()\n",
    "    batchNumpyOP = outputs.permute((0,2,3,1)).detach().cpu().numpy()\n",
    "\n",
    "    # Iterate over each sample in the batch\n",
    "    for i in range(BATCH_SIZE):\n",
    "        ssim_index, _ = compare_ssim(batchNumpyIP[i,:,:,0], batchNumpyOP[i,:,:,0], full=True,win_size=5,data_range=1)\n",
    "        tSSIM+=ssim_index\n",
    "\n",
    "    loss = criterion(outputs, inputs.to(device))\n",
    "\n",
    "# Print the training loss and the mean MSSIM\n",
    "\n",
    "print(f'Train Loss: {loss.item()}')\n",
    "print(f'Mean MSSIM for Train data is: {tSSIM/(4*len(trainloader))}')\n"
   ]
  },
  {
   "cell_type": "code",
   "execution_count": null,
   "metadata": {},
   "outputs": [],
   "source": []
  },
  {
   "cell_type": "code",
   "execution_count": 26,
   "metadata": {},
   "outputs": [
    {
     "data": {
      "text/plain": [
       "12838.698161644292"
      ]
     },
     "execution_count": 26,
     "metadata": {},
     "output_type": "execute_result"
    }
   ],
   "source": [
    "tSSIM"
   ]
  },
  {
   "cell_type": "code",
   "execution_count": 27,
   "metadata": {},
   "outputs": [
    {
     "name": "stderr",
     "output_type": "stream",
     "text": [
      "12500it [00:10, 1220.45it/s]\n"
     ]
    }
   ],
   "source": [
    "import torch.optim as optim\n",
    "import torch.nn as nn\n",
    "from tqdm import tqdm\n",
    "\n",
    "# Initialize an empty tensor to store compressed representations\n",
    "resFull = torch.tensor([])\n",
    "\n",
    "\n",
    "running_loss = 0.0\n",
    "for i, data in tqdm(enumerate(trainloader, 0)):\n",
    "    inputs, labels = data\n",
    "\n",
    "    outputs = net.compress(inputs.to(device))\n",
    "    # Concatenate the compressed representations to the `resFull` tensor\n",
    "    resFull = torch.cat([resFull, outputs[0].detach().cpu()], dim=0)\n"
   ]
  },
  {
   "cell_type": "code",
   "execution_count": 28,
   "metadata": {},
   "outputs": [
    {
     "data": {
      "text/plain": [
       "torch.Size([50000, 40])"
      ]
     },
     "execution_count": 28,
     "metadata": {},
     "output_type": "execute_result"
    }
   ],
   "source": [
    "resFull.shape"
   ]
  },
  {
   "cell_type": "code",
   "execution_count": 29,
   "metadata": {},
   "outputs": [],
   "source": [
    "toSave = resFull.numpy()"
   ]
  },
  {
   "cell_type": "code",
   "execution_count": 30,
   "metadata": {},
   "outputs": [],
   "source": [
    "np.save(f'{datasetNames[code-1]}-compressed.npy',toSave)"
   ]
  },
  {
   "cell_type": "markdown",
   "metadata": {},
   "source": [
    "Saving Inputs / Untouched"
   ]
  },
  {
   "cell_type": "code",
   "execution_count": 31,
   "metadata": {},
   "outputs": [
    {
     "name": "stderr",
     "output_type": "stream",
     "text": [
      "12500it [05:09, 40.40it/s]\n"
     ]
    }
   ],
   "source": [
    "import torch.optim as optim\n",
    "import torch.nn as nn\n",
    "from tqdm import tqdm\n",
    "\n",
    "# Initialize an empty tensor to store the input data\n",
    "resFull = torch.tensor([])\n",
    "\n",
    "\n",
    "running_loss = 0.0\n",
    "# Iterate over the training data loader\n",
    "for i, data in tqdm(enumerate(trainloader, 0)):\n",
    "    inputs, labels = data\n",
    "\n",
    "    # outputs = net.compress(inputs.to(device))\n",
    "    # Concatenate the input data tensors to the `resFull` tensor\n",
    "    resFull = torch.cat([resFull, inputs], dim=0)\n"
   ]
  },
  {
   "cell_type": "code",
   "execution_count": 32,
   "metadata": {},
   "outputs": [
    {
     "data": {
      "text/plain": [
       "torch.Size([50000, 3, 32, 32])"
      ]
     },
     "execution_count": 32,
     "metadata": {},
     "output_type": "execute_result"
    }
   ],
   "source": [
    "resFull.shape"
   ]
  },
  {
   "cell_type": "code",
   "execution_count": 33,
   "metadata": {},
   "outputs": [],
   "source": [
    "toSave = resFull.numpy()"
   ]
  },
  {
   "cell_type": "code",
   "execution_count": 32,
   "metadata": {},
   "outputs": [],
   "source": [
    "np.save(f'{datasetNames[code-1]}-og.npy',toSave)"
   ]
  },
  {
   "cell_type": "code",
   "execution_count": null,
   "metadata": {},
   "outputs": [],
   "source": []
  }
 ],
 "metadata": {
  "kernelspec": {
   "display_name": "carla1",
   "language": "python",
   "name": "python3"
  },
  "language_info": {
   "codemirror_mode": {
    "name": "ipython",
    "version": 3
   },
   "file_extension": ".py",
   "mimetype": "text/x-python",
   "name": "python",
   "nbconvert_exporter": "python",
   "pygments_lexer": "ipython3",
   "version": "3.8.19"
  }
 },
 "nbformat": 4,
 "nbformat_minor": 2
}
